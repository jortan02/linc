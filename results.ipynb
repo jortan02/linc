{
 "cells": [
  {
   "cell_type": "code",
   "execution_count": 1,
   "metadata": {},
   "outputs": [
    {
     "name": "stderr",
     "output_type": "stream",
     "text": [
      "/root/miniconda3/envs/linc/lib/python3.12/site-packages/tqdm/auto.py:21: TqdmWarning: IProgress not found. Please update jupyter and ipywidgets. See https://ipywidgets.readthedocs.io/en/stable/user_install.html\n",
      "  from .autonotebook import tqdm as notebook_tqdm\n"
     ]
    }
   ],
   "source": [
    "import glob\n",
    "import os\n",
    "import json\n",
    "import pandas as pd\n",
    "from tqdm.auto import tqdm\n",
    "\n",
    "import numpy as np\n",
    "from CotModel import CotModel\n",
    "from LincModel import LincModel\n",
    "from NaiveModel import NaiveModel"
   ]
  },
  {
   "cell_type": "code",
   "execution_count": 2,
   "metadata": {},
   "outputs": [
    {
     "data": {
      "text/plain": [
       "['results/folio/cot - Llama-2-13b-chat-hf (2024-11-29_06-45-56).json',\n",
       " 'results/folio/cot - Llama-2-7b-chat-hf (2024-11-29_03-23-47).json',\n",
       " 'results/folio/cot - Llama-3.1-8B-Instruct (2024-11-28_23-55-42).json',\n",
       " 'results/folio/cot - Llama-3.2-1B-Instruct (2024-11-28_22-34-15).json',\n",
       " 'results/folio/cot - Llama-3.2-3B-Instruct (2024-11-28_23-11-19).json',\n",
       " 'results/folio/linc - Llama-2-13b-chat-hf (2024-11-29_13-34-05).json',\n",
       " 'results/folio/linc - Llama-2-7b-chat-hf (2024-11-29_05-02-07).json',\n",
       " 'results/folio/linc - Llama-3.1-8B-Instruct (2024-11-29_02-02-06).json',\n",
       " 'results/folio/linc - Llama-3.2-1B-Instruct (2024-11-29_00-51-35).json',\n",
       " 'results/folio/linc - Llama-3.2-3B-Instruct (2024-11-29_00-17-26).json',\n",
       " 'results/folio/naive - Llama-2-13b-chat-hf (2024-11-28_23-06-36).json',\n",
       " 'results/folio/naive - Llama-2-7b-chat-hf (2024-11-28_22-07-31).json',\n",
       " 'results/folio/naive - Llama-3.1-8B-Instruct (2024-11-28_21-55-17).json',\n",
       " 'results/folio/naive - Llama-3.2-1B-Instruct (2024-11-28_21-42-29).json',\n",
       " 'results/folio/naive - Llama-3.2-3B-Instruct (2024-11-28_21-54-37).json']"
      ]
     },
     "execution_count": 2,
     "metadata": {},
     "output_type": "execute_result"
    }
   ],
   "source": [
    "glob.glob(os.path.join(\"results/folio\", '*.json'))"
   ]
  },
  {
   "cell_type": "code",
   "execution_count": null,
   "metadata": {},
   "outputs": [
    {
     "name": "stderr",
     "output_type": "stream",
     "text": [
      "100%|██████████| 15/15 [15:17<00:00, 61.19s/it] \n"
     ]
    }
   ],
   "source": [
    "data_path = \"data/folio.csv\"\n",
    "paths = glob.glob(os.path.join(\"results/folio\", '*.json'))\n",
    "\n",
    "def parse_cot(row):\n",
    "    answers = [CotModel.parse(response) for response in row.responses]\n",
    "    accuracies = [1 if answer == row[\"label\"] else 0 for answer in answers]\n",
    "    mean = np.mean(accuracies)\n",
    "    return answers, accuracies, mean\n",
    "\n",
    "def parse_linc(row):\n",
    "    answers = [LincModel.parse(response) for response in row.responses]\n",
    "    accuracies = [1 if answer == row[\"label\"] else 0 for answer in answers]\n",
    "    mean = np.mean(accuracies)\n",
    "    return answers, accuracies, mean\n",
    "\n",
    "def parse_naive(row):\n",
    "    answers = [NaiveModel.parse(response) for response in row.responses]\n",
    "    accuracies = [1 if answer == row[\"label\"] else 0 for answer in answers]\n",
    "    mean = np.mean(accuracies)\n",
    "    return answers, accuracies, mean\n",
    "\n",
    "results_df_dict = {}\n",
    "\n",
    "for path in tqdm(paths):\n",
    "    with open(path, \"r\") as file:\n",
    "        results = json.load(file)\n",
    "        \n",
    "    results_df = pd.DataFrame(results)\n",
    "    results_df[\"label\"] = pd.read_csv(data_path)[\"label\"]\n",
    "\n",
    "    if \"cot\" in path:\n",
    "        results_df[[\"answers\", \"accuracies\", \"mean\"]] = results_df.apply(lambda row: pd.Series(parse_cot(row)), axis=1)\n",
    "    elif \"linc\" in path:\n",
    "        results_df[[\"answers\", \"accuracies\", \"mean\"]] = results_df.apply(lambda row: pd.Series(parse_linc(row)), axis=1)\n",
    "    elif \"naive\" in path:\n",
    "        results_df[[\"answers\", \"accuracies\", \"mean\"]] = results_df.apply(lambda row: pd.Series(parse_naive(row)), axis=1)\n",
    "    results_df_dict[path.split(\"/\")[-1]] = results_df\n"
   ]
  },
  {
   "cell_type": "code",
   "execution_count": null,
   "metadata": {},
   "outputs": [],
   "source": [
    "results_df_list"
   ]
  },
  {
   "cell_type": "code",
   "execution_count": 4,
   "metadata": {},
   "outputs": [],
   "source": [
    "import pickle\n",
    "\n",
    "with open(\"data/results_df_list.pkl\", \"wb\") as file:\n",
    "    pickle.dump(results_df_list, file)"
   ]
  },
  {
   "cell_type": "code",
   "execution_count": 3,
   "metadata": {},
   "outputs": [],
   "source": [
    "with open(\"results/folio/linc - Llama-2-7b-chat-hf (2024-11-29_05-02-07).json\", \"r\") as file:\n",
    "    results = json.load(file)\n",
    "\n",
    "data_path = \"data/folio.csv\"\n",
    "results_df = pd.DataFrame(results)\n",
    "results_df[\"label\"] = pd.read_csv(data_path)[\"label\"]"
   ]
  },
  {
   "cell_type": "code",
   "execution_count": null,
   "metadata": {},
   "outputs": [
    {
     "name": "stdout",
     "output_type": "stream",
     "text": [
      "['Error', 'Error', 'Error', 'Error', 'Error']\n",
      "['Error', 'Error', 'Error', 'Error', 'Error']\n",
      "['Error', 'Error', 'Error', 'Error', 'Error']\n",
      "['Error', 'Error', 'Error', 'Error', 'Error']\n",
      "['Error', 'Error', 'True', 'Uncertain', 'Error']\n",
      "['Error', 'Error', 'Error', 'Error', 'Error']\n",
      "['Uncertain', 'Uncertain', 'Error', 'Error', 'Error']\n",
      "['Error', 'Error', 'Error', 'Error', 'Error']\n",
      "['Error', 'Error', 'Error', 'Error', 'Error']\n",
      "['Error', 'Error', 'Error', 'Error', 'Error']\n",
      "['Uncertain', 'Uncertain', 'Uncertain', 'Uncertain', 'Uncertain']\n",
      "['Uncertain', 'Uncertain', 'Uncertain', 'Uncertain', 'Uncertain']\n",
      "['Uncertain', 'Uncertain', 'Uncertain', 'Uncertain', 'Uncertain']\n",
      "['True', 'Error', 'Uncertain', 'True', 'True']\n",
      "['Error', 'Error', 'Error', 'Error', 'Error']\n",
      "['Error', 'Error', 'Error', 'Error', 'Uncertain']\n",
      "['Error', 'Uncertain', 'Error', 'Uncertain', 'Uncertain']\n",
      "['Error', 'Error', 'Error', 'Error', 'Error']\n",
      "['Error', 'Error', 'Uncertain', 'Error', 'Uncertain']\n",
      "['True', 'Uncertain', 'Error', 'Error', 'True']\n",
      "['Uncertain', 'Uncertain', 'Uncertain', 'Uncertain', 'Uncertain']\n",
      "['Error', 'Error', 'Error', 'Error', 'Error']\n",
      "['Error', 'Error', 'Error', 'Error', 'Error']\n",
      "['Error', 'Error', 'Error', 'Error', 'Error']\n",
      "['Error', 'Error', 'Error', 'Error', 'Error']\n",
      "['Error', 'Error', 'Error', 'Error', 'Error']\n",
      "['Error', 'Error', 'Uncertain', 'Error', 'True']\n",
      "['Error', 'Error', 'Error', 'Uncertain', 'Error']\n",
      "['Error', 'Error', 'Error', 'Error', 'Error']\n",
      "['Error', 'Error', 'Error', 'Error', 'Error']\n",
      "['Error', 'Error', 'Error', 'Error', 'Error']\n",
      "['Error', 'Error', 'Error', 'Error', 'Error']\n",
      "['Error', 'Error', 'Error', 'Error', 'Error']\n",
      "['Error', 'Error', 'Error', 'Error', 'Error']\n",
      "['Error', 'Error', 'Error', 'Error', 'Error']\n",
      "['Error', 'Error', 'Error', 'Error', 'Error']\n",
      "['Error', 'Error', 'Error', 'Error', 'Error']\n",
      "['Error', 'Error', 'Error', 'Error', 'Error']\n",
      "['Uncertain', 'Uncertain', 'Uncertain', 'Uncertain', 'Uncertain']\n",
      "['Error', 'Uncertain', 'Error', 'Error', 'Uncertain']\n",
      "['Error', 'Error', 'Error', 'Error', 'Error']\n",
      "['Error', 'Error', 'True', 'Error', 'Uncertain']\n",
      "['Error', 'Error', 'Error', 'Error', 'Error']\n",
      "['Error', 'Error', 'Uncertain', 'Uncertain', 'Uncertain']\n",
      "['Error', 'Error', 'Error', 'Error', 'Error']\n",
      "['Error', 'Error', 'Error', 'Error', 'Error']\n",
      "['Error', 'Error', 'Error', 'Error', 'Error']\n",
      "['Error', 'Error', 'Error', 'Error', 'Uncertain']\n",
      "['Error', 'False', 'Uncertain', 'Error', 'Uncertain']\n",
      "['Uncertain', 'Error', 'Uncertain', 'Error', 'Error']\n",
      "['Error', 'Error', 'Error', 'Error', 'Error']\n",
      "['Error', 'Error', 'Error', 'Uncertain', 'Error']\n",
      "['Error', 'Error', 'Uncertain', 'Error', 'Error']\n",
      "['Error', 'Uncertain', 'Uncertain', 'Uncertain', 'Uncertain']\n",
      "['Uncertain', 'Uncertain', 'Uncertain', 'Uncertain', 'Uncertain']\n",
      "['Uncertain', 'Uncertain', 'Uncertain', 'Uncertain', 'Uncertain']\n",
      "['Uncertain', 'Uncertain', 'Uncertain', 'Uncertain', 'Uncertain']\n",
      "['Uncertain', 'Uncertain', 'Uncertain', 'Uncertain', 'Uncertain']\n",
      "['Error', 'Error', 'Error', 'Error', 'Error']\n",
      "['Error', 'Error', 'Error', 'Error', 'Error']\n",
      "['Error', 'Error', 'Error', 'Error', 'Error']\n",
      "['Error', 'Error', 'Error', 'Error', 'Error']\n",
      "['Error', 'Error', 'Error', 'Error', 'Error']\n",
      "['Uncertain', 'Uncertain', 'Uncertain', 'Uncertain', 'Uncertain']\n",
      "['Uncertain', 'True', 'Uncertain', 'True', 'True']\n",
      "['Uncertain', 'Uncertain', 'Uncertain', 'Uncertain', 'Error']\n",
      "['True', 'True', 'Uncertain', 'Uncertain', 'Uncertain']\n",
      "['Uncertain', 'Uncertain', 'Uncertain', 'Uncertain', 'Uncertain']\n",
      "['Error', 'Error', 'Error', 'Uncertain', 'Error']\n",
      "['Error', 'Error', 'Error', 'Error', 'Error']\n",
      "['Error', 'Error', 'Error', 'Error', 'Error']\n",
      "['Uncertain', 'Uncertain', 'Uncertain', 'Uncertain', 'Uncertain']\n",
      "['Uncertain', 'Uncertain', 'Uncertain', 'True', 'Uncertain']\n",
      "['Uncertain', 'Uncertain', 'Uncertain', 'Uncertain', 'Uncertain']\n",
      "['Uncertain', 'Uncertain', 'Uncertain', 'Uncertain', 'Uncertain']\n",
      "['Uncertain', 'Uncertain', 'Uncertain', 'Uncertain', 'Uncertain']\n",
      "['Error', 'Error', 'Error', 'Error', 'Error']\n",
      "['Error', 'Error', 'Error', 'Error', 'Error']\n",
      "['Error', 'Error', 'Error', 'Error', 'Error']\n",
      "['Uncertain', 'Error', 'Error', 'Uncertain', 'Error']\n",
      "['Error', 'Error', 'Error', 'Error', 'Error']\n",
      "['Error', 'Error', 'Error', 'Error', 'Error']\n",
      "['Uncertain', 'Uncertain', 'Uncertain', 'Uncertain', 'Uncertain']\n",
      "['Uncertain', 'Uncertain', 'Uncertain', 'Uncertain', 'Uncertain']\n",
      "['Error', 'Error', 'Error', 'Uncertain', 'Error']\n",
      "['Error', 'Error', 'Error', 'Error', 'Uncertain']\n",
      "['Error', 'Error', 'Error', 'Error', 'Error']\n",
      "['Uncertain', 'Uncertain', 'Uncertain', 'Uncertain', 'Uncertain']\n",
      "['Uncertain', 'Uncertain', 'Uncertain', 'Uncertain', 'Uncertain']\n",
      "['Uncertain', 'Uncertain', 'Uncertain', 'Uncertain', 'Uncertain']\n",
      "['Uncertain', 'Uncertain', 'Uncertain', 'Uncertain', 'Uncertain']\n",
      "['Uncertain', 'Error', 'Error', 'Error', 'Error']\n",
      "['Uncertain', 'Uncertain', 'Uncertain', 'Uncertain', 'Uncertain']\n",
      "['Uncertain', 'Error', 'Error', 'Error', 'Error']\n",
      "['Error', 'Error', 'Error', 'Error', 'Error']\n",
      "['Error', 'Error', 'Error', 'Error', 'Error']\n",
      "['Uncertain', 'Uncertain', 'Uncertain', 'Uncertain', 'Uncertain']\n",
      "['Error', 'Error', 'Error', 'Error', 'Error']\n",
      "['Error', 'Error', 'Error', 'Error', 'Error']\n",
      "['Error', 'Error', 'Error', 'Error', 'Error']\n",
      "['Error', 'Uncertain', 'Error', 'Error', 'Error']\n",
      "['Error', 'Error', 'Error', 'Error', 'Error']\n",
      "['Error', 'Error', 'Error', 'Error', 'Error']\n",
      "['Error', 'Error', 'Error', 'Error', 'Error']\n",
      "['Uncertain', 'True', 'Uncertain', 'True', 'True']\n",
      "['Uncertain', 'Uncertain', 'Uncertain', 'Uncertain', 'True']\n",
      "['Uncertain', 'Uncertain', 'Uncertain', 'Uncertain', 'Uncertain']\n",
      "['Uncertain', 'Uncertain', 'Uncertain', 'Uncertain', 'Uncertain']\n",
      "['Error', 'Error', 'Error', 'Error', 'Error']\n",
      "['Error', 'Error', 'Error', 'Error', 'Error']\n",
      "['Error', 'Error', 'Error', 'Error', 'Error']\n",
      "['Uncertain', 'Uncertain', 'Error', 'Error', 'Uncertain']\n",
      "['Uncertain', 'Uncertain', 'Uncertain', 'Uncertain', 'Uncertain']\n",
      "['Uncertain', 'Uncertain', 'Uncertain', 'Uncertain', 'Uncertain']\n"
     ]
    },
    {
     "ename": "KeyboardInterrupt",
     "evalue": "",
     "output_type": "error",
     "traceback": [
      "\u001b[0;31m---------------------------------------------------------------------------\u001b[0m",
      "\u001b[0;31mKeyboardInterrupt\u001b[0m                         Traceback (most recent call last)",
      "Cell \u001b[0;32mIn[11], line 12\u001b[0m\n\u001b[1;32m      6\u001b[0m     \u001b[38;5;66;03m# answers = [LincModel.parse(response) for response in row.responses]\u001b[39;00m\n\u001b[1;32m      7\u001b[0m     \u001b[38;5;66;03m# accuracies = [1 if answer == row[\"label\"] else 0 for answer in answers]\u001b[39;00m\n\u001b[1;32m      8\u001b[0m     \u001b[38;5;66;03m# mean = np.mean(accuracies)\u001b[39;00m\n\u001b[1;32m      9\u001b[0m     \u001b[38;5;66;03m# return accuracies, mean\u001b[39;00m\n\u001b[1;32m     10\u001b[0m     \u001b[38;5;28;01mreturn\u001b[39;00m \u001b[38;5;28;01mNone\u001b[39;00m, \u001b[38;5;28;01mNone\u001b[39;00m\n\u001b[0;32m---> 12\u001b[0m results_df[[\u001b[38;5;124m\"\u001b[39m\u001b[38;5;124maccuracies\u001b[39m\u001b[38;5;124m\"\u001b[39m, \u001b[38;5;124m\"\u001b[39m\u001b[38;5;124mmean\u001b[39m\u001b[38;5;124m\"\u001b[39m]] \u001b[38;5;241m=\u001b[39m \u001b[43mresults_df\u001b[49m\u001b[38;5;241;43m.\u001b[39;49m\u001b[43mapply\u001b[49m\u001b[43m(\u001b[49m\u001b[38;5;28;43;01mlambda\u001b[39;49;00m\u001b[43m \u001b[49m\u001b[43mrow\u001b[49m\u001b[43m:\u001b[49m\u001b[43m \u001b[49m\u001b[43mpd\u001b[49m\u001b[38;5;241;43m.\u001b[39;49m\u001b[43mSeries\u001b[49m\u001b[43m(\u001b[49m\u001b[43mparse_linc\u001b[49m\u001b[43m(\u001b[49m\u001b[43mrow\u001b[49m\u001b[43m)\u001b[49m\u001b[43m)\u001b[49m\u001b[43m,\u001b[49m\u001b[43m \u001b[49m\u001b[43maxis\u001b[49m\u001b[38;5;241;43m=\u001b[39;49m\u001b[38;5;241;43m1\u001b[39;49m\u001b[43m)\u001b[49m\n",
      "File \u001b[0;32m~/miniconda3/envs/linc/lib/python3.12/site-packages/pandas/core/frame.py:10374\u001b[0m, in \u001b[0;36mDataFrame.apply\u001b[0;34m(self, func, axis, raw, result_type, args, by_row, engine, engine_kwargs, **kwargs)\u001b[0m\n\u001b[1;32m  10360\u001b[0m \u001b[38;5;28;01mfrom\u001b[39;00m \u001b[38;5;21;01mpandas\u001b[39;00m\u001b[38;5;21;01m.\u001b[39;00m\u001b[38;5;21;01mcore\u001b[39;00m\u001b[38;5;21;01m.\u001b[39;00m\u001b[38;5;21;01mapply\u001b[39;00m \u001b[38;5;28;01mimport\u001b[39;00m frame_apply\n\u001b[1;32m  10362\u001b[0m op \u001b[38;5;241m=\u001b[39m frame_apply(\n\u001b[1;32m  10363\u001b[0m     \u001b[38;5;28mself\u001b[39m,\n\u001b[1;32m  10364\u001b[0m     func\u001b[38;5;241m=\u001b[39mfunc,\n\u001b[0;32m   (...)\u001b[0m\n\u001b[1;32m  10372\u001b[0m     kwargs\u001b[38;5;241m=\u001b[39mkwargs,\n\u001b[1;32m  10373\u001b[0m )\n\u001b[0;32m> 10374\u001b[0m \u001b[38;5;28;01mreturn\u001b[39;00m \u001b[43mop\u001b[49m\u001b[38;5;241;43m.\u001b[39;49m\u001b[43mapply\u001b[49m\u001b[43m(\u001b[49m\u001b[43m)\u001b[49m\u001b[38;5;241m.\u001b[39m__finalize__(\u001b[38;5;28mself\u001b[39m, method\u001b[38;5;241m=\u001b[39m\u001b[38;5;124m\"\u001b[39m\u001b[38;5;124mapply\u001b[39m\u001b[38;5;124m\"\u001b[39m)\n",
      "File \u001b[0;32m~/miniconda3/envs/linc/lib/python3.12/site-packages/pandas/core/apply.py:916\u001b[0m, in \u001b[0;36mFrameApply.apply\u001b[0;34m(self)\u001b[0m\n\u001b[1;32m    913\u001b[0m \u001b[38;5;28;01melif\u001b[39;00m \u001b[38;5;28mself\u001b[39m\u001b[38;5;241m.\u001b[39mraw:\n\u001b[1;32m    914\u001b[0m     \u001b[38;5;28;01mreturn\u001b[39;00m \u001b[38;5;28mself\u001b[39m\u001b[38;5;241m.\u001b[39mapply_raw(engine\u001b[38;5;241m=\u001b[39m\u001b[38;5;28mself\u001b[39m\u001b[38;5;241m.\u001b[39mengine, engine_kwargs\u001b[38;5;241m=\u001b[39m\u001b[38;5;28mself\u001b[39m\u001b[38;5;241m.\u001b[39mengine_kwargs)\n\u001b[0;32m--> 916\u001b[0m \u001b[38;5;28;01mreturn\u001b[39;00m \u001b[38;5;28;43mself\u001b[39;49m\u001b[38;5;241;43m.\u001b[39;49m\u001b[43mapply_standard\u001b[49m\u001b[43m(\u001b[49m\u001b[43m)\u001b[49m\n",
      "File \u001b[0;32m~/miniconda3/envs/linc/lib/python3.12/site-packages/pandas/core/apply.py:1063\u001b[0m, in \u001b[0;36mFrameApply.apply_standard\u001b[0;34m(self)\u001b[0m\n\u001b[1;32m   1061\u001b[0m \u001b[38;5;28;01mdef\u001b[39;00m \u001b[38;5;21mapply_standard\u001b[39m(\u001b[38;5;28mself\u001b[39m):\n\u001b[1;32m   1062\u001b[0m     \u001b[38;5;28;01mif\u001b[39;00m \u001b[38;5;28mself\u001b[39m\u001b[38;5;241m.\u001b[39mengine \u001b[38;5;241m==\u001b[39m \u001b[38;5;124m\"\u001b[39m\u001b[38;5;124mpython\u001b[39m\u001b[38;5;124m\"\u001b[39m:\n\u001b[0;32m-> 1063\u001b[0m         results, res_index \u001b[38;5;241m=\u001b[39m \u001b[38;5;28;43mself\u001b[39;49m\u001b[38;5;241;43m.\u001b[39;49m\u001b[43mapply_series_generator\u001b[49m\u001b[43m(\u001b[49m\u001b[43m)\u001b[49m\n\u001b[1;32m   1064\u001b[0m     \u001b[38;5;28;01melse\u001b[39;00m:\n\u001b[1;32m   1065\u001b[0m         results, res_index \u001b[38;5;241m=\u001b[39m \u001b[38;5;28mself\u001b[39m\u001b[38;5;241m.\u001b[39mapply_series_numba()\n",
      "File \u001b[0;32m~/miniconda3/envs/linc/lib/python3.12/site-packages/pandas/core/apply.py:1081\u001b[0m, in \u001b[0;36mFrameApply.apply_series_generator\u001b[0;34m(self)\u001b[0m\n\u001b[1;32m   1078\u001b[0m \u001b[38;5;28;01mwith\u001b[39;00m option_context(\u001b[38;5;124m\"\u001b[39m\u001b[38;5;124mmode.chained_assignment\u001b[39m\u001b[38;5;124m\"\u001b[39m, \u001b[38;5;28;01mNone\u001b[39;00m):\n\u001b[1;32m   1079\u001b[0m     \u001b[38;5;28;01mfor\u001b[39;00m i, v \u001b[38;5;129;01min\u001b[39;00m \u001b[38;5;28menumerate\u001b[39m(series_gen):\n\u001b[1;32m   1080\u001b[0m         \u001b[38;5;66;03m# ignore SettingWithCopy here in case the user mutates\u001b[39;00m\n\u001b[0;32m-> 1081\u001b[0m         results[i] \u001b[38;5;241m=\u001b[39m \u001b[38;5;28;43mself\u001b[39;49m\u001b[38;5;241;43m.\u001b[39;49m\u001b[43mfunc\u001b[49m\u001b[43m(\u001b[49m\u001b[43mv\u001b[49m\u001b[43m,\u001b[49m\u001b[43m \u001b[49m\u001b[38;5;241;43m*\u001b[39;49m\u001b[38;5;28;43mself\u001b[39;49m\u001b[38;5;241;43m.\u001b[39;49m\u001b[43margs\u001b[49m\u001b[43m,\u001b[49m\u001b[43m \u001b[49m\u001b[38;5;241;43m*\u001b[39;49m\u001b[38;5;241;43m*\u001b[39;49m\u001b[38;5;28;43mself\u001b[39;49m\u001b[38;5;241;43m.\u001b[39;49m\u001b[43mkwargs\u001b[49m\u001b[43m)\u001b[49m\n\u001b[1;32m   1082\u001b[0m         \u001b[38;5;28;01mif\u001b[39;00m \u001b[38;5;28misinstance\u001b[39m(results[i], ABCSeries):\n\u001b[1;32m   1083\u001b[0m             \u001b[38;5;66;03m# If we have a view on v, we need to make a copy because\u001b[39;00m\n\u001b[1;32m   1084\u001b[0m             \u001b[38;5;66;03m#  series_generator will swap out the underlying data\u001b[39;00m\n\u001b[1;32m   1085\u001b[0m             results[i] \u001b[38;5;241m=\u001b[39m results[i]\u001b[38;5;241m.\u001b[39mcopy(deep\u001b[38;5;241m=\u001b[39m\u001b[38;5;28;01mFalse\u001b[39;00m)\n",
      "Cell \u001b[0;32mIn[11], line 12\u001b[0m, in \u001b[0;36m<lambda>\u001b[0;34m(row)\u001b[0m\n\u001b[1;32m      6\u001b[0m     \u001b[38;5;66;03m# answers = [LincModel.parse(response) for response in row.responses]\u001b[39;00m\n\u001b[1;32m      7\u001b[0m     \u001b[38;5;66;03m# accuracies = [1 if answer == row[\"label\"] else 0 for answer in answers]\u001b[39;00m\n\u001b[1;32m      8\u001b[0m     \u001b[38;5;66;03m# mean = np.mean(accuracies)\u001b[39;00m\n\u001b[1;32m      9\u001b[0m     \u001b[38;5;66;03m# return accuracies, mean\u001b[39;00m\n\u001b[1;32m     10\u001b[0m     \u001b[38;5;28;01mreturn\u001b[39;00m \u001b[38;5;28;01mNone\u001b[39;00m, \u001b[38;5;28;01mNone\u001b[39;00m\n\u001b[0;32m---> 12\u001b[0m results_df[[\u001b[38;5;124m\"\u001b[39m\u001b[38;5;124maccuracies\u001b[39m\u001b[38;5;124m\"\u001b[39m, \u001b[38;5;124m\"\u001b[39m\u001b[38;5;124mmean\u001b[39m\u001b[38;5;124m\"\u001b[39m]] \u001b[38;5;241m=\u001b[39m results_df\u001b[38;5;241m.\u001b[39mapply(\u001b[38;5;28;01mlambda\u001b[39;00m row: pd\u001b[38;5;241m.\u001b[39mSeries(\u001b[43mparse_linc\u001b[49m\u001b[43m(\u001b[49m\u001b[43mrow\u001b[49m\u001b[43m)\u001b[49m), axis\u001b[38;5;241m=\u001b[39m\u001b[38;5;241m1\u001b[39m)\n",
      "Cell \u001b[0;32mIn[11], line 5\u001b[0m, in \u001b[0;36mparse_linc\u001b[0;34m(row)\u001b[0m\n\u001b[1;32m      4\u001b[0m \u001b[38;5;28;01mdef\u001b[39;00m \u001b[38;5;21mparse_linc\u001b[39m(row):\n\u001b[0;32m----> 5\u001b[0m     \u001b[38;5;28mprint\u001b[39m([\u001b[43mLincModel\u001b[49m\u001b[38;5;241;43m.\u001b[39;49m\u001b[43mparse\u001b[49m\u001b[43m(\u001b[49m\u001b[43mresponse\u001b[49m\u001b[43m)\u001b[49m \u001b[38;5;28;01mfor\u001b[39;00m response \u001b[38;5;129;01min\u001b[39;00m row\u001b[38;5;241m.\u001b[39mresponses])\n\u001b[1;32m      6\u001b[0m     \u001b[38;5;66;03m# answers = [LincModel.parse(response) for response in row.responses]\u001b[39;00m\n\u001b[1;32m      7\u001b[0m     \u001b[38;5;66;03m# accuracies = [1 if answer == row[\"label\"] else 0 for answer in answers]\u001b[39;00m\n\u001b[1;32m      8\u001b[0m     \u001b[38;5;66;03m# mean = np.mean(accuracies)\u001b[39;00m\n\u001b[1;32m      9\u001b[0m     \u001b[38;5;66;03m# return accuracies, mean\u001b[39;00m\n\u001b[1;32m     10\u001b[0m     \u001b[38;5;28;01mreturn\u001b[39;00m \u001b[38;5;28;01mNone\u001b[39;00m, \u001b[38;5;28;01mNone\u001b[39;00m\n",
      "File \u001b[0;32m/workspaces/linc/LincModel.py:325\u001b[0m, in \u001b[0;36mLincModel.parse\u001b[0;34m(texts)\u001b[0m\n\u001b[1;32m    323\u001b[0m \u001b[38;5;129m@staticmethod\u001b[39m\n\u001b[1;32m    324\u001b[0m \u001b[38;5;28;01mdef\u001b[39;00m \u001b[38;5;21mparse\u001b[39m(texts: \u001b[38;5;28mlist\u001b[39m[\u001b[38;5;28mstr\u001b[39m]):\n\u001b[0;32m--> 325\u001b[0m     results \u001b[38;5;241m=\u001b[39m [\u001b[43mLincModel\u001b[49m\u001b[38;5;241;43m.\u001b[39;49m\u001b[43m_parse\u001b[49m\u001b[43m(\u001b[49m\u001b[43mtext\u001b[49m\u001b[43m)\u001b[49m \u001b[38;5;28;01mfor\u001b[39;00m text \u001b[38;5;129;01min\u001b[39;00m texts]\n\u001b[1;32m    326\u001b[0m     counter \u001b[38;5;241m=\u001b[39m Counter(results)\n\u001b[1;32m    327\u001b[0m     value, count \u001b[38;5;241m=\u001b[39m counter\u001b[38;5;241m.\u001b[39mmost_common()[\u001b[38;5;241m0\u001b[39m]\n",
      "File \u001b[0;32m/workspaces/linc/LincModel.py:315\u001b[0m, in \u001b[0;36mLincModel._parse\u001b[0;34m(text)\u001b[0m\n\u001b[1;32m    313\u001b[0m prover \u001b[38;5;241m=\u001b[39m Prover9()\n\u001b[1;32m    314\u001b[0m result \u001b[38;5;241m=\u001b[39m prover\u001b[38;5;241m.\u001b[39mprove(fol_exp_conclusion, fol_exps_premises)\n\u001b[0;32m--> 315\u001b[0m notResult \u001b[38;5;241m=\u001b[39m \u001b[43mprover\u001b[49m\u001b[38;5;241;43m.\u001b[39;49m\u001b[43mprove\u001b[49m\u001b[43m(\u001b[49m\u001b[43mfol_exp_not_conclusion\u001b[49m\u001b[43m,\u001b[49m\u001b[43m \u001b[49m\u001b[43mfol_exps_premises\u001b[49m\u001b[43m)\u001b[49m\n\u001b[1;32m    316\u001b[0m \u001b[38;5;28;01mif\u001b[39;00m result \u001b[38;5;241m==\u001b[39m notResult:\n\u001b[1;32m    317\u001b[0m     \u001b[38;5;28;01mreturn\u001b[39;00m \u001b[38;5;124m\"\u001b[39m\u001b[38;5;124mUncertain\u001b[39m\u001b[38;5;124m\"\u001b[39m\n",
      "File \u001b[0;32m~/miniconda3/envs/linc/lib/python3.12/site-packages/nltk/inference/api.py:37\u001b[0m, in \u001b[0;36mProver.prove\u001b[0;34m(self, goal, assumptions, verbose)\u001b[0m\n\u001b[1;32m     32\u001b[0m \u001b[38;5;28;01mdef\u001b[39;00m \u001b[38;5;21mprove\u001b[39m(\u001b[38;5;28mself\u001b[39m, goal\u001b[38;5;241m=\u001b[39m\u001b[38;5;28;01mNone\u001b[39;00m, assumptions\u001b[38;5;241m=\u001b[39m\u001b[38;5;28;01mNone\u001b[39;00m, verbose\u001b[38;5;241m=\u001b[39m\u001b[38;5;28;01mFalse\u001b[39;00m):\n\u001b[1;32m     33\u001b[0m \u001b[38;5;250m    \u001b[39m\u001b[38;5;124;03m\"\"\"\u001b[39;00m\n\u001b[1;32m     34\u001b[0m \u001b[38;5;124;03m    :return: Whether the proof was successful or not.\u001b[39;00m\n\u001b[1;32m     35\u001b[0m \u001b[38;5;124;03m    :rtype: bool\u001b[39;00m\n\u001b[1;32m     36\u001b[0m \u001b[38;5;124;03m    \"\"\"\u001b[39;00m\n\u001b[0;32m---> 37\u001b[0m     \u001b[38;5;28;01mreturn\u001b[39;00m \u001b[38;5;28;43mself\u001b[39;49m\u001b[38;5;241;43m.\u001b[39;49m\u001b[43m_prove\u001b[49m\u001b[43m(\u001b[49m\u001b[43mgoal\u001b[49m\u001b[43m,\u001b[49m\u001b[43m \u001b[49m\u001b[43massumptions\u001b[49m\u001b[43m,\u001b[49m\u001b[43m \u001b[49m\u001b[43mverbose\u001b[49m\u001b[43m)\u001b[49m[\u001b[38;5;241m0\u001b[39m]\n",
      "File \u001b[0;32m~/miniconda3/envs/linc/lib/python3.12/site-packages/nltk/inference/prover9.py:327\u001b[0m, in \u001b[0;36mProver9._prove\u001b[0;34m(self, goal, assumptions, verbose)\u001b[0m\n\u001b[1;32m    324\u001b[0m \u001b[38;5;28;01mif\u001b[39;00m \u001b[38;5;129;01mnot\u001b[39;00m assumptions:\n\u001b[1;32m    325\u001b[0m     assumptions \u001b[38;5;241m=\u001b[39m []\n\u001b[0;32m--> 327\u001b[0m stdout, returncode \u001b[38;5;241m=\u001b[39m \u001b[38;5;28;43mself\u001b[39;49m\u001b[38;5;241;43m.\u001b[39;49m\u001b[43m_call_prover9\u001b[49m\u001b[43m(\u001b[49m\n\u001b[1;32m    328\u001b[0m \u001b[43m    \u001b[49m\u001b[38;5;28;43mself\u001b[39;49m\u001b[38;5;241;43m.\u001b[39;49m\u001b[43mprover9_input\u001b[49m\u001b[43m(\u001b[49m\u001b[43mgoal\u001b[49m\u001b[43m,\u001b[49m\u001b[43m \u001b[49m\u001b[43massumptions\u001b[49m\u001b[43m)\u001b[49m\u001b[43m,\u001b[49m\u001b[43m \u001b[49m\u001b[43mverbose\u001b[49m\u001b[38;5;241;43m=\u001b[39;49m\u001b[43mverbose\u001b[49m\n\u001b[1;32m    329\u001b[0m \u001b[43m\u001b[49m\u001b[43m)\u001b[49m\n\u001b[1;32m    330\u001b[0m \u001b[38;5;28;01mreturn\u001b[39;00m (returncode \u001b[38;5;241m==\u001b[39m \u001b[38;5;241m0\u001b[39m, stdout)\n",
      "File \u001b[0;32m~/miniconda3/envs/linc/lib/python3.12/site-packages/nltk/inference/prover9.py:356\u001b[0m, in \u001b[0;36mProver9._call_prover9\u001b[0;34m(self, input_str, args, verbose)\u001b[0m\n\u001b[1;32m    353\u001b[0m     updated_input_str \u001b[38;5;241m+\u001b[39m\u001b[38;5;241m=\u001b[39m \u001b[38;5;124m\"\u001b[39m\u001b[38;5;124massign(max_seconds, \u001b[39m\u001b[38;5;132;01m%d\u001b[39;00m\u001b[38;5;124m).\u001b[39m\u001b[38;5;130;01m\\n\u001b[39;00m\u001b[38;5;130;01m\\n\u001b[39;00m\u001b[38;5;124m\"\u001b[39m \u001b[38;5;241m%\u001b[39m \u001b[38;5;28mself\u001b[39m\u001b[38;5;241m.\u001b[39m_timeout\n\u001b[1;32m    354\u001b[0m updated_input_str \u001b[38;5;241m+\u001b[39m\u001b[38;5;241m=\u001b[39m input_str\n\u001b[0;32m--> 356\u001b[0m stdout, returncode \u001b[38;5;241m=\u001b[39m \u001b[38;5;28;43mself\u001b[39;49m\u001b[38;5;241;43m.\u001b[39;49m\u001b[43m_call\u001b[49m\u001b[43m(\u001b[49m\n\u001b[1;32m    357\u001b[0m \u001b[43m    \u001b[49m\u001b[43mupdated_input_str\u001b[49m\u001b[43m,\u001b[49m\u001b[43m \u001b[49m\u001b[38;5;28;43mself\u001b[39;49m\u001b[38;5;241;43m.\u001b[39;49m\u001b[43m_prover9_bin\u001b[49m\u001b[43m,\u001b[49m\u001b[43m \u001b[49m\u001b[43margs\u001b[49m\u001b[43m,\u001b[49m\u001b[43m \u001b[49m\u001b[43mverbose\u001b[49m\n\u001b[1;32m    358\u001b[0m \u001b[43m\u001b[49m\u001b[43m)\u001b[49m\n\u001b[1;32m    360\u001b[0m \u001b[38;5;28;01mif\u001b[39;00m returncode \u001b[38;5;129;01mnot\u001b[39;00m \u001b[38;5;129;01min\u001b[39;00m [\u001b[38;5;241m0\u001b[39m, \u001b[38;5;241m2\u001b[39m]:\n\u001b[1;32m    361\u001b[0m     errormsgprefix \u001b[38;5;241m=\u001b[39m \u001b[38;5;124m\"\u001b[39m\u001b[38;5;132;01m%%\u001b[39;00m\u001b[38;5;124mERROR:\u001b[39m\u001b[38;5;124m\"\u001b[39m\n",
      "File \u001b[0;32m~/miniconda3/envs/linc/lib/python3.12/site-packages/nltk/inference/prover9.py:210\u001b[0m, in \u001b[0;36mProver9Parent._call\u001b[0;34m(self, input_str, binary, args, verbose)\u001b[0m\n\u001b[1;32m    206\u001b[0m     \u001b[38;5;28;01mpass\u001b[39;00m\n\u001b[1;32m    207\u001b[0m p \u001b[38;5;241m=\u001b[39m subprocess\u001b[38;5;241m.\u001b[39mPopen(\n\u001b[1;32m    208\u001b[0m     cmd, stdout\u001b[38;5;241m=\u001b[39msubprocess\u001b[38;5;241m.\u001b[39mPIPE, stderr\u001b[38;5;241m=\u001b[39msubprocess\u001b[38;5;241m.\u001b[39mSTDOUT, stdin\u001b[38;5;241m=\u001b[39msubprocess\u001b[38;5;241m.\u001b[39mPIPE\n\u001b[1;32m    209\u001b[0m )\n\u001b[0;32m--> 210\u001b[0m (stdout, stderr) \u001b[38;5;241m=\u001b[39m \u001b[43mp\u001b[49m\u001b[38;5;241;43m.\u001b[39;49m\u001b[43mcommunicate\u001b[49m\u001b[43m(\u001b[49m\u001b[38;5;28;43minput\u001b[39;49m\u001b[38;5;241;43m=\u001b[39;49m\u001b[43minput_str\u001b[49m\u001b[43m)\u001b[49m\n\u001b[1;32m    212\u001b[0m \u001b[38;5;28;01mif\u001b[39;00m verbose:\n\u001b[1;32m    213\u001b[0m     \u001b[38;5;28mprint\u001b[39m(\u001b[38;5;124m\"\u001b[39m\u001b[38;5;124mReturn code:\u001b[39m\u001b[38;5;124m\"\u001b[39m, p\u001b[38;5;241m.\u001b[39mreturncode)\n",
      "File \u001b[0;32m~/miniconda3/envs/linc/lib/python3.12/subprocess.py:1209\u001b[0m, in \u001b[0;36mPopen.communicate\u001b[0;34m(self, input, timeout)\u001b[0m\n\u001b[1;32m   1206\u001b[0m     endtime \u001b[38;5;241m=\u001b[39m \u001b[38;5;28;01mNone\u001b[39;00m\n\u001b[1;32m   1208\u001b[0m \u001b[38;5;28;01mtry\u001b[39;00m:\n\u001b[0;32m-> 1209\u001b[0m     stdout, stderr \u001b[38;5;241m=\u001b[39m \u001b[38;5;28;43mself\u001b[39;49m\u001b[38;5;241;43m.\u001b[39;49m\u001b[43m_communicate\u001b[49m\u001b[43m(\u001b[49m\u001b[38;5;28;43minput\u001b[39;49m\u001b[43m,\u001b[49m\u001b[43m \u001b[49m\u001b[43mendtime\u001b[49m\u001b[43m,\u001b[49m\u001b[43m \u001b[49m\u001b[43mtimeout\u001b[49m\u001b[43m)\u001b[49m\n\u001b[1;32m   1210\u001b[0m \u001b[38;5;28;01mexcept\u001b[39;00m \u001b[38;5;167;01mKeyboardInterrupt\u001b[39;00m:\n\u001b[1;32m   1211\u001b[0m     \u001b[38;5;66;03m# https://bugs.python.org/issue25942\u001b[39;00m\n\u001b[1;32m   1212\u001b[0m     \u001b[38;5;66;03m# See the detailed comment in .wait().\u001b[39;00m\n\u001b[1;32m   1213\u001b[0m     \u001b[38;5;28;01mif\u001b[39;00m timeout \u001b[38;5;129;01mis\u001b[39;00m \u001b[38;5;129;01mnot\u001b[39;00m \u001b[38;5;28;01mNone\u001b[39;00m:\n",
      "File \u001b[0;32m~/miniconda3/envs/linc/lib/python3.12/subprocess.py:2105\u001b[0m, in \u001b[0;36mPopen._communicate\u001b[0;34m(self, input, endtime, orig_timeout)\u001b[0m\n\u001b[1;32m   2102\u001b[0m \u001b[38;5;28;01mif\u001b[39;00m \u001b[38;5;28mself\u001b[39m\u001b[38;5;241m.\u001b[39mstderr \u001b[38;5;129;01mand\u001b[39;00m \u001b[38;5;129;01mnot\u001b[39;00m \u001b[38;5;28mself\u001b[39m\u001b[38;5;241m.\u001b[39mstderr\u001b[38;5;241m.\u001b[39mclosed:\n\u001b[1;32m   2103\u001b[0m     selector\u001b[38;5;241m.\u001b[39mregister(\u001b[38;5;28mself\u001b[39m\u001b[38;5;241m.\u001b[39mstderr, selectors\u001b[38;5;241m.\u001b[39mEVENT_READ)\n\u001b[0;32m-> 2105\u001b[0m \u001b[38;5;28;01mwhile\u001b[39;00m selector\u001b[38;5;241m.\u001b[39mget_map():\n\u001b[1;32m   2106\u001b[0m     timeout \u001b[38;5;241m=\u001b[39m \u001b[38;5;28mself\u001b[39m\u001b[38;5;241m.\u001b[39m_remaining_time(endtime)\n\u001b[1;32m   2107\u001b[0m     \u001b[38;5;28;01mif\u001b[39;00m timeout \u001b[38;5;129;01mis\u001b[39;00m \u001b[38;5;129;01mnot\u001b[39;00m \u001b[38;5;28;01mNone\u001b[39;00m \u001b[38;5;129;01mand\u001b[39;00m timeout \u001b[38;5;241m<\u001b[39m \u001b[38;5;241m0\u001b[39m:\n",
      "\u001b[0;31mKeyboardInterrupt\u001b[0m: "
     ]
    }
   ],
   "source": [
    "import re\n",
    "import numpy as np\n",
    "\n",
    "def parse_linc(row):\n",
    "    answers = [LincModel.parse(response) for response in row.responses]\n",
    "    accuracies = [1 if answer == row[\"label\"] else 0 for answer in answers]\n",
    "    mean = np.mean(accuracies)\n",
    "    return accuracies, mean\n",
    "    \n",
    "results_df[[\"accuracies\", \"mean\"]] = results_df.apply(lambda row: pd.Series(parse_linc(row)), axis=1)"
   ]
  },
  {
   "cell_type": "code",
   "execution_count": 5,
   "metadata": {},
   "outputs": [
    {
     "name": "stdout",
     "output_type": "stream",
     "text": [
      "  <EVALUATE>\n",
      "\n",
      "TEXT: All employees who schedule a meeting with their customers will appear in the company today.\n",
      "FOL: all x. (ScheduleMeeting(x) -> AppearInCompany(x))\n",
      "\n",
      "TEXT: Everyone who has lunch in the company schedules meetings with their customers.\n",
      "FOL: all x. (HaveLunchInCompany(x) -> ScheduleMeetings(x))\n",
      "\n",
      "TEXT: Employees will either have lunch in the company or have lunch at home.\n",
      "FOL: all x. (HaveLunchInCompany(x) | HaveLunchAtHome(x))\n",
      "\n",
      "TEXT: If an employee has lunch at home, then he/she is working remotely from home.\n",
      "FOL: all x. (HaveLunchAtHome(x) -> WorkingRemotelyFromHome(x))\n",
      "\n",
      "TEXT: All employees who are in other countries work remotely from home.\n",
      "FOL: all x. (InOtherCountry(x) -> WorkingRemotelyFromHome(x))\n",
      "\n",
      "TEXT: No managers work remotely from home.\n",
      "FOL: all x. (Manager(x) -> -WorkingRemotelyFromHome(x))\n",
      "\n",
      "TEXT: James is either a manager and appears in the company today or neither a manager nor appears in the company today.\n",
      "FOL: all x. (Manager(james) & AppearInCompanyToday(james) | -Manager(james) & -AppearInCompanyToday(james))\n",
      "\n",
      "</EVALUATE>\n"
     ]
    }
   ],
   "source": [
    "response = results_df.iloc[2].responses[0][3]\n",
    "print(response)"
   ]
  },
  {
   "cell_type": "code",
   "execution_count": 6,
   "metadata": {},
   "outputs": [
    {
     "data": {
      "text/plain": [
       "['all x. (ScheduleMeeting(x) -> AppearInCompany(x))',\n",
       " 'all x. (HaveLunchInCompany(x) -> ScheduleMeetings(x))',\n",
       " 'all x. (HaveLunchInCompany(x) | HaveLunchAtHome(x))',\n",
       " 'all x. (HaveLunchAtHome(x) -> WorkingRemotelyFromHome(x))',\n",
       " 'all x. (InOtherCountry(x) -> WorkingRemotelyFromHome(x))',\n",
       " 'all x. (Manager(x) -> -WorkingRemotelyFromHome(x))',\n",
       " 'all x. (Manager(james) & AppearInCompanyToday(james) | -Manager(james) & -AppearInCompanyToday(james))']"
      ]
     },
     "execution_count": 6,
     "metadata": {},
     "output_type": "execute_result"
    }
   ],
   "source": [
    "strings = LincModel._extract_fol_strings(response)\n",
    "strings"
   ]
  },
  {
   "cell_type": "code",
   "execution_count": 7,
   "metadata": {},
   "outputs": [
    {
     "data": {
      "text/plain": [
       "([<AllExpression all x.(ScheduleMeeting(x) -> AppearInCompany(x))>,\n",
       "  <AllExpression all x.(HaveLunchInCompany(x) -> ScheduleMeetings(x))>,\n",
       "  <AllExpression all x.(HaveLunchInCompany(x) | HaveLunchAtHome(x))>,\n",
       "  <AllExpression all x.(HaveLunchAtHome(x) -> WorkingRemotelyFromHome(x))>,\n",
       "  <AllExpression all x.(InOtherCountry(x) -> WorkingRemotelyFromHome(x))>,\n",
       "  <AllExpression all x.(Manager(x) -> -WorkingRemotelyFromHome(x))>],\n",
       " <AllExpression all x.((Manager(james) & AppearInCompanyToday(james)) | (-Manager(james) & -AppearInCompanyToday(james)))>,\n",
       " <NegatedExpression -all x.((Manager(james) & AppearInCompanyToday(james)) | (-Manager(james) & -AppearInCompanyToday(james)))>)"
      ]
     },
     "execution_count": 7,
     "metadata": {},
     "output_type": "execute_result"
    }
   ],
   "source": [
    "LincModel._convert_fol_exps(strings[:-1], strings[-1])"
   ]
  },
  {
   "cell_type": "code",
   "execution_count": 8,
   "metadata": {},
   "outputs": [],
   "source": [
    "from nltk.inference.prover9 import Prover9\n",
    "fol_exps_premises, fol_exp_conclusion, fol_exp_not_conclusion = LincModel._convert_fol_exps(strings[:-1], strings[-1])\n",
    "prover = Prover9()\n",
    "result = prover.prove(fol_exp_conclusion, fol_exps_premises)\n",
    "notResult = prover.prove(fol_exp_not_conclusion, fol_exps_premises)"
   ]
  },
  {
   "cell_type": "code",
   "execution_count": 9,
   "metadata": {},
   "outputs": [
    {
     "data": {
      "text/plain": [
       "False"
      ]
     },
     "execution_count": 9,
     "metadata": {},
     "output_type": "execute_result"
    }
   ],
   "source": [
    "result"
   ]
  },
  {
   "cell_type": "code",
   "execution_count": 10,
   "metadata": {},
   "outputs": [
    {
     "data": {
      "text/plain": [
       "False"
      ]
     },
     "execution_count": 10,
     "metadata": {},
     "output_type": "execute_result"
    }
   ],
   "source": [
    "notResult"
   ]
  },
  {
   "cell_type": "code",
   "execution_count": null,
   "metadata": {},
   "outputs": [
    {
     "data": {
      "text/plain": [
       "['  <EVALUATE>\\n\\nTEXT: If people perform in school talent shows often, then they attend and are very engaged with school events.\\nFOL: all x. (PerformInSchoolTalentShowsOften(x) -> AttendAndEngagedWithSchoolEvents(x))\\n\\nTEXT: People either perform in school talent shows often or are inactive and disinterested members of their community.\\nFOL: all x. (PerformInSchoolTalentShowsOften(x) -> (-InactiveAndDisinterestedMemberOfTheirCommunity(x)) | (InactiveAndDisinterestedMemberOfTheirCommunity(x)))\\n\\nTEXT: If people chaperone high school dances, then they are not students who attend the school.\\nFOL: all x. (ChaperoneHighSchoolDances(x) -> NotStudentWhoAttendsTheSchool(x))\\n\\nTEXT: All people who are inactive and disinterested members of their community chaperone high school dances.\\nFOL: all x. (InactiveAndDisinterestedMemberOfTheirCommunity(x) -> ChaperoneHighSchoolDances(x))\\n\\nTEXT: All young children and teenagers who wish to further their academic careers and educational opportunities are students who attend the school.\\nFOL: all x. (WishToFurtherAcademicCareersAndEducationalOpportunities(x) -> StudentWhoAttendsTheSchool(x))\\n\\nTEXT: Bonnie either both attends and is very engaged with school events and is a student who attends the school, or she neither attends and is very engaged with school events nor is a student who attends the school.\\nFOL: either (AttendAndEngagedWithSchoolEvents(bonnie) & StudentWhoAttendsTheSchool(bonnie)) or (-AttendAndEngagedWithSchoolEvents(bonnie) & (-StudentWhoAttendsTheSchool(bonnie)))\\n\\n</EVALUATE>',\n",
       " '  <EVALUATE>\\n\\nTEXT: If people perform in school talent shows often, then they attend and are very engaged with school events.\\nFOL: all x. (PerformInSchoolTalentShowsOften(x) -> AttendSchoolEvents(x) & EngagedWithSchoolEvents(x))\\n\\nTEXT: People either perform in school talent shows often or are inactive and disinterested members of their community.\\nFOL: all x. (PerformInSchoolTalentShowsOften(x) -> -InactiveAndDisinterestedMemberOfTheirCommunity(x))\\n\\nTEXT: If people chaperone high school dances, then they are not students who attend the school.\\nFOL: all x. (ChaperoneHighSchoolDances(x) -> NotStudentWhoAttendsTheSchool(x))\\n\\nTEXT: All people who are inactive and disinterested members of their community chaperone high school dances.\\nFOL: all x. (InactiveAndDisinterestedMemberOfTheirCommunity(x) -> ChaperoneHighSchoolDances(x))\\n\\nTEXT: All young children and teenagers who wish to further their academic careers and educational opportunities are students who attend the school.\\nFOL: all x. (WishToFurtherAcademicCareersAndEducationalOpportunities(x) -> StudentWhoAttendsTheSchool(x))\\n\\nTEXT: Bonnie either both attends and is very engaged with school events and is a student who attends the school, or she neither attends and is very engaged with school events nor is a student who attends the school.\\nFOL: either (AttendSchoolEvents(bonnie) & EngagedWithSchoolEvents(bonnie) & StudentWhoAttendsTheSchool(bonnie)) or (-AttendSchoolEvents(bonnie) & -EngagedWithSchoolEvents(bonnie) & -StudentWhoAttendsTheSchool(bonnie))\\n\\n</EVALUATE>',\n",
       " '  <EVALUATE>\\n\\nTEXT: If people perform in school talent shows often, then they attend and are very engaged with school events.\\nFOL: all x. (PerformInSchoolTalentShowsOften(x) -> AttendAndEngagedWithSchoolEvents(x))\\n\\nTEXT: People either perform in school talent shows often or are inactive and disinterested members of their community.\\nFOL: all x. (PerformInSchoolTalentShowsOften(x) -> -InactiveAndDisinterestedMemberOfTheirCommunity(x))\\n\\nTEXT: If people chaperone high school dances, then they are not students who attend the school.\\nFOL: all x. (ChaperoneHighSchoolDances(x) -> NotStudentWhoAttendsTheSchool(x))\\n\\nTEXT: All people who are inactive and disinterested members of their community chaperone high school dances.\\nFOL: all x. (InactiveAndDisinterestedMemberOfTheirCommunity(x) -> ChaperoneHighSchoolDances(x))\\n\\nTEXT: All young children and teenagers who wish to further their academic careers and educational opportunities are students who attend the school.\\nFOL: all x. (YoungChildrenAndTeenagersWhoWishToFurtherTheirAcademicCareersAndEducationalOpportunities(x) -> StudentWhoAttendsTheSchool(x))\\n\\nTEXT: Bonnie either both attends and is very engaged with school events and is a student who attends the school, or she neither attends and is very engaged with school events nor is a student who attends the school.\\nFOL: either (AttendAndEngagedWithSchoolEvents(bonnie) & StudentWhoAttendsTheSchool(bonnie)) or (-AttendAndEngagedWithSchoolEvents(bonnie) & -StudentWhoAttendsTheSchool(bonnie))\\n\\n</EVALUATE>',\n",
       " '  <EVALUATE>\\n\\nTEXT: If people perform in school talent shows often, then they attend and are very engaged with school events.\\nFOL: all x. (PerformInSchoolTalentShowsOften(x) -> AttendSchoolEvents(x) & EngagedWithSchoolEvents(x))\\n\\nTEXT: People either perform in school talent shows often or are inactive and disinterested members of their community.\\nFOL: all x. (PerformInSchoolTalentShowsOften(x) -> -InactiveAndDisinterestedMemberOfTheirCommunity(x))\\n\\nTEXT: If people chaperone high school dances, then they are not students who attend the school.\\nFOL: all x. (ChaperoneHighSchoolDances(x) -> NotStudentWhoAttendsTheSchool(x))\\n\\nTEXT: All people who are inactive and disinterested members of their community chaperone high school dances.\\nFOL: all x. (InactiveAndDisinterestedMemberOfTheirCommunity(x) -> ChaperoneHighSchoolDances(x))\\n\\nTEXT: All young children and teenagers who wish to further their academic careers and educational opportunities are students who attend the school.\\nFOL: all x. (YoungChildrenAndTeenagersWhoWishToFurtherTheirAcademicCareersAndEducationalOpportunities(x) -> StudentWhoAttendsTheSchool(x))\\n\\nTEXT: Bonnie either both attends and is very engaged with school events and is a student who attends the school, or she neither attends and is very engaged with school events nor is a student who attends the school.\\nFOL: either BonnieAttendsSchoolEventsAndIsEngagedWithSchoolEvents(Bonnie) & StudentWhoAttendsTheSchool(Bonnie) or -BonnieAttendsSchoolEventsAndIsEngagedWithSchoolEvents(Bonnie) & -StudentWhoAttendsTheSchool(Bonnie)\\n\\n</EVALUATE>',\n",
       " '  <EVALUATE>\\n\\nTEXT: If people perform in school talent shows often, then they attend and are very engaged with school events.\\nFOL: all x. (PerformInSchoolTalentShowsOften(x) -> AttendAndEngagedWithSchoolEvents(x))\\n\\nTEXT: People either perform in school talent shows often or are inactive and disinterested members of their community.\\nFOL: all x. (PerformInSchoolTalentShowsOften(x) -> -InactiveAndDisinterestedMemberOfTheirCommunity(x))\\n\\nTEXT: If people chaperone high school dances, then they are not students who attend the school.\\nFOL: all x. (ChaperoneHighSchoolDances(x) -> NotStudentWhoAttendsTheSchool(x))\\n\\nTEXT: All people who are inactive and disinterested members of their community chaperone high school dances.\\nFOL: all x. (InactiveAndDisinterestedMemberOfTheirCommunity(x) -> ChaperoneHighSchoolDances(x))\\n\\nTEXT: All young children and teenagers who wish to further their academic careers and educational opportunities are students who attend the school.\\nFOL: all x. (YoungChildOrTeenager(x) & WishToFurtherAcademicCareersAndEducationalOpportunities(x) -> StudentWhoAttendsTheSchool(x))\\n\\nTEXT: Bonnie either both attends and is very engaged with school events and is a student who attends the school, or she neither attends and is very engaged with school events nor is a student who attends the school.\\nFOL: either (AttendAndEngagedWithSchoolEvents(bonnie) & StudentWhoAttendsTheSchool(bonnie)) or (-AttendAndEngagedWithSchoolEvents(bonnie) & -StudentWhoAttendsTheSchool(bonnie))\\n\\n</EVALUATE>']"
      ]
     },
     "execution_count": 10,
     "metadata": {},
     "output_type": "execute_result"
    }
   ],
   "source": [
    "LincModel"
   ]
  },
  {
   "cell_type": "code",
   "execution_count": null,
   "metadata": {},
   "outputs": [
    {
     "data": {
      "text/html": [
       "<div>\n",
       "<style scoped>\n",
       "    .dataframe tbody tr th:only-of-type {\n",
       "        vertical-align: middle;\n",
       "    }\n",
       "\n",
       "    .dataframe tbody tr th {\n",
       "        vertical-align: top;\n",
       "    }\n",
       "\n",
       "    .dataframe thead th {\n",
       "        text-align: right;\n",
       "    }\n",
       "</style>\n",
       "<table border=\"1\" class=\"dataframe\">\n",
       "  <thead>\n",
       "    <tr style=\"text-align: right;\">\n",
       "      <th></th>\n",
       "      <th>index</th>\n",
       "      <th>responses</th>\n",
       "      <th>label</th>\n",
       "      <th>accuracies</th>\n",
       "      <th>mean</th>\n",
       "    </tr>\n",
       "  </thead>\n",
       "  <tbody>\n",
       "    <tr>\n",
       "      <th>0</th>\n",
       "      <td>0</td>\n",
       "      <td>[  Sure, I'd be happy to help! Here's my evalu...</td>\n",
       "      <td>Uncertain</td>\n",
       "      <td>[0, 0, 0, 0, 1]</td>\n",
       "      <td>0.2</td>\n",
       "    </tr>\n",
       "    <tr>\n",
       "      <th>1</th>\n",
       "      <td>1</td>\n",
       "      <td>[  Sure, I'd be happy to help! Let's think ste...</td>\n",
       "      <td>True</td>\n",
       "      <td>[0, 1, 0, 1, 1]</td>\n",
       "      <td>0.6</td>\n",
       "    </tr>\n",
       "    <tr>\n",
       "      <th>2</th>\n",
       "      <td>2</td>\n",
       "      <td>[  Sure, I'd be happy to help! Let's think ste...</td>\n",
       "      <td>Uncertain</td>\n",
       "      <td>[0, 0, 0, 0, 0]</td>\n",
       "      <td>0.0</td>\n",
       "    </tr>\n",
       "    <tr>\n",
       "      <th>3</th>\n",
       "      <td>3</td>\n",
       "      <td>[  Sure, I'd be happy to help! Here's my evalu...</td>\n",
       "      <td>Uncertain</td>\n",
       "      <td>[0, 1, 0, 0, 0]</td>\n",
       "      <td>0.2</td>\n",
       "    </tr>\n",
       "    <tr>\n",
       "      <th>4</th>\n",
       "      <td>4</td>\n",
       "      <td>[  Sure, I'd be happy to help! Here's my evalu...</td>\n",
       "      <td>True</td>\n",
       "      <td>[1, 0, 0, 0, 0]</td>\n",
       "      <td>0.2</td>\n",
       "    </tr>\n",
       "    <tr>\n",
       "      <th>...</th>\n",
       "      <td>...</td>\n",
       "      <td>...</td>\n",
       "      <td>...</td>\n",
       "      <td>...</td>\n",
       "      <td>...</td>\n",
       "    </tr>\n",
       "    <tr>\n",
       "      <th>177</th>\n",
       "      <td>177</td>\n",
       "      <td>[  Sure, I'd be happy to help! Here's my evalu...</td>\n",
       "      <td>False</td>\n",
       "      <td>[1, 0, 0, 0, 1]</td>\n",
       "      <td>0.4</td>\n",
       "    </tr>\n",
       "    <tr>\n",
       "      <th>178</th>\n",
       "      <td>178</td>\n",
       "      <td>[  Sure, I'd be happy to help! Here's my evalu...</td>\n",
       "      <td>False</td>\n",
       "      <td>[0, 1, 1, 0, 0]</td>\n",
       "      <td>0.4</td>\n",
       "    </tr>\n",
       "    <tr>\n",
       "      <th>179</th>\n",
       "      <td>179</td>\n",
       "      <td>[  Sure, I'd be happy to help! Let's think ste...</td>\n",
       "      <td>False</td>\n",
       "      <td>[0, 1, 0, 1, 1]</td>\n",
       "      <td>0.6</td>\n",
       "    </tr>\n",
       "    <tr>\n",
       "      <th>180</th>\n",
       "      <td>180</td>\n",
       "      <td>[  Sure, I'd be happy to help! Here's my evalu...</td>\n",
       "      <td>Uncertain</td>\n",
       "      <td>[0, 1, 1, 1, 0]</td>\n",
       "      <td>0.6</td>\n",
       "    </tr>\n",
       "    <tr>\n",
       "      <th>181</th>\n",
       "      <td>181</td>\n",
       "      <td>[  Sure, I'd be happy to help! Let's evaluate ...</td>\n",
       "      <td>Uncertain</td>\n",
       "      <td>[0, 1, 0, 0, 0]</td>\n",
       "      <td>0.2</td>\n",
       "    </tr>\n",
       "  </tbody>\n",
       "</table>\n",
       "<p>182 rows × 5 columns</p>\n",
       "</div>"
      ],
      "text/plain": [
       "     index                                          responses      label  \\\n",
       "0        0  [  Sure, I'd be happy to help! Here's my evalu...  Uncertain   \n",
       "1        1  [  Sure, I'd be happy to help! Let's think ste...       True   \n",
       "2        2  [  Sure, I'd be happy to help! Let's think ste...  Uncertain   \n",
       "3        3  [  Sure, I'd be happy to help! Here's my evalu...  Uncertain   \n",
       "4        4  [  Sure, I'd be happy to help! Here's my evalu...       True   \n",
       "..     ...                                                ...        ...   \n",
       "177    177  [  Sure, I'd be happy to help! Here's my evalu...      False   \n",
       "178    178  [  Sure, I'd be happy to help! Here's my evalu...      False   \n",
       "179    179  [  Sure, I'd be happy to help! Let's think ste...      False   \n",
       "180    180  [  Sure, I'd be happy to help! Here's my evalu...  Uncertain   \n",
       "181    181  [  Sure, I'd be happy to help! Let's evaluate ...  Uncertain   \n",
       "\n",
       "          accuracies  mean  \n",
       "0    [0, 0, 0, 0, 1]   0.2  \n",
       "1    [0, 1, 0, 1, 1]   0.6  \n",
       "2    [0, 0, 0, 0, 0]   0.0  \n",
       "3    [0, 1, 0, 0, 0]   0.2  \n",
       "4    [1, 0, 0, 0, 0]   0.2  \n",
       "..               ...   ...  \n",
       "177  [1, 0, 0, 0, 1]   0.4  \n",
       "178  [0, 1, 1, 0, 0]   0.4  \n",
       "179  [0, 1, 0, 1, 1]   0.6  \n",
       "180  [0, 1, 1, 1, 0]   0.6  \n",
       "181  [0, 1, 0, 0, 0]   0.2  \n",
       "\n",
       "[182 rows x 5 columns]"
      ]
     },
     "execution_count": 78,
     "metadata": {},
     "output_type": "execute_result"
    }
   ],
   "source": [
    "results_df"
   ]
  }
 ],
 "metadata": {
  "kernelspec": {
   "display_name": "linc",
   "language": "python",
   "name": "python3"
  },
  "language_info": {
   "codemirror_mode": {
    "name": "ipython",
    "version": 3
   },
   "file_extension": ".py",
   "mimetype": "text/x-python",
   "name": "python",
   "nbconvert_exporter": "python",
   "pygments_lexer": "ipython3",
   "version": "3.12.7"
  }
 },
 "nbformat": 4,
 "nbformat_minor": 2
}
