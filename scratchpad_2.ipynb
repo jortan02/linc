{
 "cells": [
  {
   "cell_type": "code",
   "execution_count": 1,
   "metadata": {},
   "outputs": [
    {
     "name": "stderr",
     "output_type": "stream",
     "text": [
      "c:\\Users\\Jordan\\anaconda3\\envs\\linc\\Lib\\site-packages\\tqdm\\auto.py:21: TqdmWarning: IProgress not found. Please update jupyter and ipywidgets. See https://ipywidgets.readthedocs.io/en/stable/user_install.html\n",
      "  from .autonotebook import tqdm as notebook_tqdm\n"
     ]
    }
   ],
   "source": [
    "import NaiveModel\n",
    "%load_ext autoreload\n",
    "%autoreload 2"
   ]
  },
  {
   "cell_type": "code",
   "execution_count": 2,
   "metadata": {},
   "outputs": [
    {
     "name": "stderr",
     "output_type": "stream",
     "text": [
      "Loading checkpoint shards: 100%|██████████| 2/2 [00:02<00:00,  1.47s/it]\n",
      "Some parameters are on the meta device because they were offloaded to the cpu.\n"
     ]
    }
   ],
   "source": [
    "model = NaiveModel.NaiveModel(\"meta-llama/Llama-3.2-3B-Instruct\")"
   ]
  },
  {
   "cell_type": "code",
   "execution_count": 3,
   "metadata": {},
   "outputs": [
    {
     "name": "stderr",
     "output_type": "stream",
     "text": [
      "Setting `pad_token_id` to `eos_token_id`:None for open-end generation.\n",
      "Starting from v4.46, the `logits` model output will have the same type as the model (except at train time, where it will always be FP32)\n"
     ]
    },
    {
     "data": {
      "text/plain": [
       "[[[{'role': 'user',\n",
       "    'content': \"The following is a first-order logic (FOL) problem.\\nThe problem is to determine whether the conclusion follows from the premises.\\nThe premises are given in the form of a set of first-order logic sentences.\\nThe conclusion is given in the form of a single first-order logic sentence.\\nThe task is to evaluate the conclusion as 'True', 'False', or 'Uncertain' given the premises.\\nAnswer the question directly! Simply respond with 'True', 'False', or 'Uncertain' between <EVALUATE> tags\\n\\nThe following is an example of a problem:\\n<PREMISES>\\nAll dispensable things are environment-friendly.\\nAll woodware is dispensable.\\nAll paper is woodware.\\nNo good things are bad.\\nAll environment-friendly things are good.\\nA worksheet is either paper or is environment friendly.\\n</PREMISES>\\n<CONCLUSION>\\nA worksheet is not dispensable.\\n</CONCLUSION>\\n\\nThe problem is answered in this format:\\n<EVALUATE>\\nUncertain\\n</EVALUATE>\\n\\n<PREMISES>\\nAll dispensable things are environment-friendly.\\nAll woodware is dispensable.\\nAll paper is woodware.\\nNo good things are bad.\\nAll environment-friendly things are good.\\nA worksheet is either paper or is environment friendly.\\n</PREMISES>\\n<CONCLUSION>\\nA worksheet is not dispensable.\\n</CONCLUSION>\\n\\n<EVALUATE>\"},\n",
       "   {'role': 'assistant', 'content': '<EVALUATE>\\nFalse\\n</EVALUATE>'}],\n",
       "  [{'role': 'user',\n",
       "    'content': \"The following is a first-order logic (FOL) problem.\\nThe problem is to determine whether the conclusion follows from the premises.\\nThe premises are given in the form of a set of first-order logic sentences.\\nThe conclusion is given in the form of a single first-order logic sentence.\\nThe task is to evaluate the conclusion as 'True', 'False', or 'Uncertain' given the premises.\\nAnswer the question directly! Simply respond with 'True', 'False', or 'Uncertain' between <EVALUATE> tags\\n\\nThe following is an example of a problem:\\n<PREMISES>\\nAll dispensable things are environment-friendly.\\nAll woodware is dispensable.\\nAll paper is woodware.\\nNo good things are bad.\\nAll environment-friendly things are good.\\nA worksheet is either paper or is environment friendly.\\n</PREMISES>\\n<CONCLUSION>\\nA worksheet is not dispensable.\\n</CONCLUSION>\\n\\nThe problem is answered in this format:\\n<EVALUATE>\\nUncertain\\n</EVALUATE>\\n\\n<PREMISES>\\nAll dispensable things are environment-friendly.\\nAll woodware is dispensable.\\nAll paper is woodware.\\nNo good things are bad.\\nAll environment-friendly things are good.\\nA worksheet is either paper or is environment friendly.\\n</PREMISES>\\n<CONCLUSION>\\nA worksheet is not dispensable.\\n</CONCLUSION>\\n\\n<EVALUATE>\"},\n",
       "   {'role': 'assistant', 'content': '<EVALUATE>\\nFalse\\n</EVALUATE>'}],\n",
       "  [{'role': 'user',\n",
       "    'content': \"The following is a first-order logic (FOL) problem.\\nThe problem is to determine whether the conclusion follows from the premises.\\nThe premises are given in the form of a set of first-order logic sentences.\\nThe conclusion is given in the form of a single first-order logic sentence.\\nThe task is to evaluate the conclusion as 'True', 'False', or 'Uncertain' given the premises.\\nAnswer the question directly! Simply respond with 'True', 'False', or 'Uncertain' between <EVALUATE> tags\\n\\nThe following is an example of a problem:\\n<PREMISES>\\nAll dispensable things are environment-friendly.\\nAll woodware is dispensable.\\nAll paper is woodware.\\nNo good things are bad.\\nAll environment-friendly things are good.\\nA worksheet is either paper or is environment friendly.\\n</PREMISES>\\n<CONCLUSION>\\nA worksheet is not dispensable.\\n</CONCLUSION>\\n\\nThe problem is answered in this format:\\n<EVALUATE>\\nUncertain\\n</EVALUATE>\\n\\n<PREMISES>\\nAll dispensable things are environment-friendly.\\nAll woodware is dispensable.\\nAll paper is woodware.\\nNo good things are bad.\\nAll environment-friendly things are good.\\nA worksheet is either paper or is environment friendly.\\n</PREMISES>\\n<CONCLUSION>\\nA worksheet is not dispensable.\\n</CONCLUSION>\\n\\n<EVALUATE>\"},\n",
       "   {'role': 'assistant', 'content': '<EVALUATE>\\nFalse\\n</EVALUATE>'}],\n",
       "  [{'role': 'user',\n",
       "    'content': \"The following is a first-order logic (FOL) problem.\\nThe problem is to determine whether the conclusion follows from the premises.\\nThe premises are given in the form of a set of first-order logic sentences.\\nThe conclusion is given in the form of a single first-order logic sentence.\\nThe task is to evaluate the conclusion as 'True', 'False', or 'Uncertain' given the premises.\\nAnswer the question directly! Simply respond with 'True', 'False', or 'Uncertain' between <EVALUATE> tags\\n\\nThe following is an example of a problem:\\n<PREMISES>\\nAll dispensable things are environment-friendly.\\nAll woodware is dispensable.\\nAll paper is woodware.\\nNo good things are bad.\\nAll environment-friendly things are good.\\nA worksheet is either paper or is environment friendly.\\n</PREMISES>\\n<CONCLUSION>\\nA worksheet is not dispensable.\\n</CONCLUSION>\\n\\nThe problem is answered in this format:\\n<EVALUATE>\\nUncertain\\n</EVALUATE>\\n\\n<PREMISES>\\nAll dispensable things are environment-friendly.\\nAll woodware is dispensable.\\nAll paper is woodware.\\nNo good things are bad.\\nAll environment-friendly things are good.\\nA worksheet is either paper or is environment friendly.\\n</PREMISES>\\n<CONCLUSION>\\nA worksheet is not dispensable.\\n</CONCLUSION>\\n\\n<EVALUATE>\"},\n",
       "   {'role': 'assistant', 'content': '<EVALUATE>\\nFalse\\n</EVALUATE>'}],\n",
       "  [{'role': 'user',\n",
       "    'content': \"The following is a first-order logic (FOL) problem.\\nThe problem is to determine whether the conclusion follows from the premises.\\nThe premises are given in the form of a set of first-order logic sentences.\\nThe conclusion is given in the form of a single first-order logic sentence.\\nThe task is to evaluate the conclusion as 'True', 'False', or 'Uncertain' given the premises.\\nAnswer the question directly! Simply respond with 'True', 'False', or 'Uncertain' between <EVALUATE> tags\\n\\nThe following is an example of a problem:\\n<PREMISES>\\nAll dispensable things are environment-friendly.\\nAll woodware is dispensable.\\nAll paper is woodware.\\nNo good things are bad.\\nAll environment-friendly things are good.\\nA worksheet is either paper or is environment friendly.\\n</PREMISES>\\n<CONCLUSION>\\nA worksheet is not dispensable.\\n</CONCLUSION>\\n\\nThe problem is answered in this format:\\n<EVALUATE>\\nUncertain\\n</EVALUATE>\\n\\n<PREMISES>\\nAll dispensable things are environment-friendly.\\nAll woodware is dispensable.\\nAll paper is woodware.\\nNo good things are bad.\\nAll environment-friendly things are good.\\nA worksheet is either paper or is environment friendly.\\n</PREMISES>\\n<CONCLUSION>\\nA worksheet is not dispensable.\\n</CONCLUSION>\\n\\n<EVALUATE>\"},\n",
       "   {'role': 'assistant', 'content': '<EVALUATE>\\nFalse\\n</EVALUATE>'}]]]"
      ]
     },
     "execution_count": 3,
     "metadata": {},
     "output_type": "execute_result"
    }
   ],
   "source": [
    "model.answer([\"All dispensable things are environment-friendly.\\nAll woodware is dispensable.\\nAll paper is woodware.\\nNo good things are bad.\\nAll environment-friendly things are good.\\nA worksheet is either paper or is environment friendly.\"], [\"A worksheet is not dispensable.\"])"
   ]
  }
 ],
 "metadata": {
  "kernelspec": {
   "display_name": "linc",
   "language": "python",
   "name": "python3"
  },
  "language_info": {
   "codemirror_mode": {
    "name": "ipython",
    "version": 3
   },
   "file_extension": ".py",
   "mimetype": "text/x-python",
   "name": "python",
   "nbconvert_exporter": "python",
   "pygments_lexer": "ipython3",
   "version": "3.12.7"
  }
 },
 "nbformat": 4,
 "nbformat_minor": 2
}
