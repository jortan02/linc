{
 "cells": [
  {
   "cell_type": "code",
   "execution_count": 3,
   "metadata": {},
   "outputs": [],
   "source": [
    "import torch\n",
    "assert torch.cuda.is_available()"
   ]
  },
  {
   "cell_type": "code",
   "execution_count": 2,
   "metadata": {},
   "outputs": [],
   "source": [
    "batch_size = 4"
   ]
  },
  {
   "cell_type": "code",
   "execution_count": null,
   "metadata": {},
   "outputs": [
    {
     "name": "stderr",
     "output_type": "stream",
     "text": [
      "/uufs/chpc.utah.edu/common/home/u1283221/miniconda3/envs/linc/lib/python3.12/site-packages/tqdm/auto.py:21: TqdmWarning: IProgress not found. Please update jupyter and ipywidgets. See https://ipywidgets.readthedocs.io/en/stable/user_install.html\n",
      "  from .autonotebook import tqdm as notebook_tqdm\n"
     ]
    }
   ],
   "source": [
    "# from datasets import load_dataset\n",
    "\n",
    "# # Login using e.g. `huggingface-cli login` to access this dataset\n",
    "# ds = load_dataset(\"yale-nlp/FOLIO\")\n",
    "\n",
    "# train_df = ds[\"train\"].to_pandas()\n",
    "# validation_df = ds[\"validation\"].to_pandas()"
   ]
  },
  {
   "cell_type": "code",
   "execution_count": 18,
   "metadata": {},
   "outputs": [],
   "source": [
    "import pandas as pd\n",
    "train_df = pd.read_json(\"FOLIO/data/v0.0/folio-train.jsonl\", lines=True)\n",
    "validation_df = pd.read_json(\"FOLIO/data/v0.0/folio-validation.jsonl\", lines=True)"
   ]
  },
  {
   "cell_type": "code",
   "execution_count": 19,
   "metadata": {},
   "outputs": [
    {
     "data": {
      "text/plain": [
       "story_id                                                      481\n",
       "example_id                                                   1408\n",
       "conclusion                        A worksheet is not dispensable.\n",
       "premises        [All dispensable things are environment-friend...\n",
       "premises-FOL    [∀x (Dispensable(x) → EnvironmentFriendly(x)),...\n",
       "label                                                     Unknown\n",
       "source                                                        hyb\n",
       "Name: 125, dtype: object"
      ]
     },
     "execution_count": 19,
     "metadata": {},
     "output_type": "execute_result"
    }
   ],
   "source": [
    "train_df.iloc[125]"
   ]
  },
  {
   "cell_type": "code",
   "execution_count": null,
   "metadata": {},
   "outputs": [],
   "source": [
    "# train_df[\"premises\"] = train_df[\"premises\"].apply(lambda x: \"\\n\".join(x))\n",
    "# train_df[\"premises-FOL \"] = train_df[\"premises-FOL \"].apply(lambda x: \"\\n\".join(x))"
   ]
  },
  {
   "cell_type": "code",
   "execution_count": 20,
   "metadata": {},
   "outputs": [],
   "source": [
    "in_context_indices = [126, 24,61, 276, 149, 262, 264, 684]\n",
    "in_context_examples = train_df.iloc[[x - 1 for x in in_context_indices]]"
   ]
  },
  {
   "cell_type": "code",
   "execution_count": 21,
   "metadata": {},
   "outputs": [],
   "source": [
    "in_context_format = \"\"\"\\\n",
    "<PREMISES>\n",
    "{premises}\n",
    "</PREMISES>\n",
    "<CONCLUSION>\n",
    "{conclusion}\n",
    "</CONCLUSION>\n",
    "<EVALUATE>\n",
    "{premises_FOL}\n",
    "{label}\n",
    "</EVALUATE>\\\n",
    "\"\"\""
   ]
  },
  {
   "cell_type": "code",
   "execution_count": 57,
   "metadata": {},
   "outputs": [
    {
     "name": "stdout",
     "output_type": "stream",
     "text": [
      "<PREMISES>\n",
      "All dispensable things are environment-friendly. \n",
      "All woodware is dispensable.\n",
      "All paper is woodware. \n",
      "No good things are bad. \n",
      "All environment-friendly things are good.\n",
      "A worksheet is either paper or is environment-friendly.\n",
      "</PREMISES>\n",
      "<CONCLUSION>\n",
      "A worksheet is not dispensable.\n",
      "</CONCLUSION>\n",
      "<EVALUATE>\n",
      "∀x (Dispensable(x) → EnvironmentFriendly(x))\n",
      "∀x (Woodware(x) → Dispensable(x))\n",
      "∀x (Paper(x) → Woodware(x))\n",
      "∀x (Good(x) → ¬Bad(x))\n",
      "∀x (EnvironmentFriendly(x) → Good(x))\n",
      "Paper(worksheet) ⊕ EnvironmentFriendly(worksheet)\n",
      "Unknown\n",
      "</EVALUATE>\n",
      "\n",
      "<PREMISES>\n",
      "A La Liga soccer team ranks higher than another if it receives more points.\n",
      "If two La Liga soccer teams recieve the same points, the team which recieves more points from the games between the two teams ranks higher.\n",
      "Real Madrid and Barcelona are both La Liga soccer teams.\n",
      "In La Liga 2021-2022, Real Madrid recieves 86 points and Barcelon recieves 73 points.\n",
      "In La Liga 2021-2022, Real Madrid and Barcelona both recieve 3 points from the games between them.\n",
      "</PREMISES>\n",
      "<CONCLUSION>\n",
      "In La Liga 2021-2022, Real Madrid ranks higher than Barcelona.\n",
      "</CONCLUSION>\n",
      "<EVALUATE>\n",
      "∀x ∀y (LaLiga(x) ∧ LaLiga(y) ∧ MorePoints(x, y) → HigherRank(x, y))\n",
      "∀x ∀y (LaLiga(x) ∧ LaLiga(y) ∧ ¬MorePoints(x, y) ∧ ¬MorePoints(y, x) ∧ MorePointsInGameBetween(x, y) → HigherRank(x, y))\n",
      "LaLiga(realMadrid) ∧ LaLiga(barcelona)\n",
      "MorePoints(realMadrid, barcelona)\n",
      "¬MorePointsInGameBetween(realMadrid, barcelona) ∧ ¬MorePointsInGameBetween(barcelona, realMadrid)\n",
      "True\n",
      "</EVALUATE>\n",
      "\n",
      "<PREMISES>\n",
      "All athletes are good at sports.\n",
      "All Olympic gold medal winners are good athletes.\n",
      "No scientists are good at sports.\n",
      "All Nobel laureates are scientists.\n",
      "Amy is good at sports or Amy is an Olympic gold medal winner.\n",
      "If Amy is not a Nobel laureate, then Amy is not an Olympic gold medal winner.\n",
      "</PREMISES>\n",
      "<CONCLUSION>\n",
      "If Amy is not an Olympic gold medal winner, then Amy is a Nobel laureate.\n",
      "</CONCLUSION>\n",
      "<EVALUATE>\n",
      "∀x (Athlete(x) → GoodAtSports(x))\n",
      "∀x (OlympicGoldMedalWinner(x) → Athlete(x))\n",
      "∀x (Scientist(x) → ¬GoodAtSports(x))\n",
      "∀x (NobelLaureate(x) → Scientist(x))\n",
      "GoodAtSports(amy) ∨ OlympicGoldMedalWinner(amy)\n",
      "¬NobelLaureate(amy) → ¬OlympicGoldMedalWinner(amy)\n",
      "False\n",
      "</EVALUATE>\n",
      "\n",
      "<PREMISES>\n",
      "All people who are respected by others are people who contribute to the country. \n",
      "If a person is respected by others, then he/she contributes to the country. \n",
      "All people available to have a visit without any fees are those respected by others. \n",
      "All Customers who once served in the army are available to have a visit without any fees. \n",
      "All people who once were sentenced for thief stayed in prison for some time. \n",
      "All people who once stayed in prison for some time have a bad record in the local state. \n",
      "James was either once sentenced for thief or stayed in prison for some time. \n",
      "James is either with a bad record in the local state or respected by others. \n",
      "</PREMISES>\n",
      "<CONCLUSION>\n",
      "James contributes to the country.\n",
      "</CONCLUSION>\n",
      "<EVALUATE>\n",
      "∀x (Respected(x) → ContributeToCountry(x))\n",
      "∀x (Respected(x) → ContributeToCountry(x))\n",
      "∀x (HaveVisitWithoutAnyFees(x) → Respected(x))\n",
      "∀x (Army(x) → HaveVisitWithoutAnyFees(x))\n",
      "∀x (Thief(x) → Prison(x))\n",
      "∀x (Prison(x) → BadRecord(x))\n",
      "Thief(james) ⊕ Prison(james) \n",
      "BadRecord(james) ⊕ Respected(james)\n",
      "Unknown\n",
      "</EVALUATE>\n",
      "\n",
      "<PREMISES>\n",
      "No songs are visual. \n",
      "All folk songs are songs. \n",
      "All videos are visual. \n",
      "All movies are videos.\n",
      "All sci-fi movies are movies.\n",
      "Inception is a sci-fi movie.\n",
      "Mac is neither a folk song nor a sci-fi movie.\n",
      "</PREMISES>\n",
      "<CONCLUSION>\n",
      "Inception is a folk song.\n",
      "</CONCLUSION>\n",
      "<EVALUATE>\n",
      "∀x (Song(x) → ¬Visual(x))\n",
      "∀x (FolkSong(x) → Song(x))\n",
      "∀x (Video(x) → Visual(x))\n",
      "∀x (Movie(x) → Video(x))\n",
      "∀x (ScifiMovie(x) → Movie(x))\n",
      "ScifiMovie(inception)\n",
      "¬FolkSong(mac) ∧ ¬ScifiMovie(mac)\n",
      "False\n",
      "</EVALUATE>\n",
      "\n",
      "<PREMISES>\n",
      "Every chef can cook.\n",
      "Some people who aren’t chefs can cook.\n",
      "People who cook can make scrambled eggs and pasta.\n",
      "If someone can make cookies and muffins, they are a baker.\n",
      "Bakers who can also make scrambled eggs can make a good breakfast.\n",
      "Luke can make cookies, scrambled eggs, and muffins, but not pasta.\n",
      "</PREMISES>\n",
      "<CONCLUSION>\n",
      "Luke can make a good breakfast.\n",
      "</CONCLUSION>\n",
      "<EVALUATE>\n",
      "∀x (Chef(x) → Cook(x))\n",
      "∃x (¬Chef(x) ∧ Cook(x))\n",
      "∀x (Cook(x) → (MakeScrambledEggs(x) ∧ MakePasta(x)))\n",
      "∀x (MakeCookies(x) ∧ MakeMuffins(x) → Baker(x))\n",
      "∀x ((Baker(x) ∧ MakeScrambledEggs(x)) → MakeGoodBreakfast(x))\n",
      "MakeCookies(luke) ∧ MakeScrambledEggs(luke) ∧ MakeMuffins(luke) ∧ ¬MakePasta(luke)\n",
      "True\n",
      "</EVALUATE>\n",
      "\n",
      "<PREMISES>\n",
      "ETS develops various standardized tests primarily in the United States for K-12 and higher education. \n",
      "ETS administers international tests including the TOEFL, TOEIC, GRE and subject tests in more than 180 countries.\n",
      "Many of the assessments ETS develops are associated with entry to the US tertiary and quaternary education institutions. \n",
      "ETS also develops K-12 statewide assessments used for accountability testing in many states.\n",
      "</PREMISES>\n",
      "<CONCLUSION>\n",
      "ETS develops assessments for K-12 statewide as well as entry to US tertiary and quaternary education institutions.\n",
      "</CONCLUSION>\n",
      "<EVALUATE>\n",
      "∃x (Develops(ets, x) ∧ StandardizedTest(x) ∧ In(x, unitedstates) ∧ For(x, k-12andhighereducation))\n",
      "∃x (Administers(ets, x) ∧ InternationalTest(x) ∧ (TOEFL(x) ∨ TOEIC(x) ∨ GRE(x) ∨ SubjectTests(x)))\n",
      "∃x (Develops(ets, x) ∧ AssociatedWith(x, entrytouseducationinstitutions))\n",
      "∃x (Develops(ets, x) ∧ StateWideAssesment(x) ∧ UsedFor(x, accountabilitytesting))\n",
      "True\n",
      "</EVALUATE>\n",
      "\n",
      "<PREMISES>\n",
      "China is one of BRICS and its economy is emerging.\n",
      "India is one of BRICS and its economy is emerging.\n",
      "All people from China speak Chinese.\n",
      "All people from India speak Hindi or English.\n",
      "There is an Indian.\n",
      "</PREMISES>\n",
      "<CONCLUSION>\n",
      "There is a person from BRICS speaking Hindi.\n",
      "</CONCLUSION>\n",
      "<EVALUATE>\n",
      "∀x (China(x) → BRICS(x) ∧ EmergingEconomy(x))\n",
      "∀x (India(x) → BRICS(x) ∧ EmergingEconomy(x))\n",
      "∀x ∀y (From(x, y) ∧ China(y) → Speak(x, chinese))\n",
      "∀x ∀y (From(x, y) ∧ India(y) → Speak(x, hindi) ∨ Speak(x, english))\n",
      "∃x ∃y (From(x, y) ∧ India(y))\n",
      "Unknown\n",
      "</EVALUATE>\n",
      "\n"
     ]
    }
   ],
   "source": [
    "for index, in_context_example in in_context_examples.iterrows():\n",
    "        print(in_context_format.format(premises = \"\\n\".join(in_context_example[\"premises\"]), conclusion = in_context_example[\"conclusion\"], premises_FOL = \"\\n\".join(in_context_example[\"premises-FOL\"]), label = in_context_example[\"label\"]))\n",
    "        print()"
   ]
  },
  {
   "cell_type": "code",
   "execution_count": null,
   "metadata": {},
   "outputs": [],
   "source": [
    "error_indices = [3, 109, 110, 111, 6, 28, 30, 48, 113, 115, 139, 140, 10, 11, 12, 88, 106, 107, 108, 174, 175, 176]\n",
    "validation_df = validation_df.drop([x - 1 for x in error_indices])"
   ]
  },
  {
   "cell_type": "code",
   "execution_count": 5,
   "metadata": {},
   "outputs": [
    {
     "data": {
      "text/html": [
       "<div>\n",
       "<style scoped>\n",
       "    .dataframe tbody tr th:only-of-type {\n",
       "        vertical-align: middle;\n",
       "    }\n",
       "\n",
       "    .dataframe tbody tr th {\n",
       "        vertical-align: top;\n",
       "    }\n",
       "\n",
       "    .dataframe thead th {\n",
       "        text-align: right;\n",
       "    }\n",
       "</style>\n",
       "<table border=\"1\" class=\"dataframe\">\n",
       "  <thead>\n",
       "    <tr style=\"text-align: right;\">\n",
       "      <th></th>\n",
       "      <th>story_id</th>\n",
       "      <th>premises</th>\n",
       "      <th>premises-FOL</th>\n",
       "      <th>conclusion</th>\n",
       "      <th>conclusion-FOL</th>\n",
       "      <th>label</th>\n",
       "      <th>example_id</th>\n",
       "    </tr>\n",
       "  </thead>\n",
       "  <tbody>\n",
       "    <tr>\n",
       "      <th>0</th>\n",
       "      <td>380</td>\n",
       "      <td>People in this club who perform in school tale...</td>\n",
       "      <td>∀x (InThisClub(x) ∧ PerformOftenIn(x, schoolTa...</td>\n",
       "      <td>Bonnie performs in school talent shows often.</td>\n",
       "      <td>InThisClub(bonnie) ∧ (Perform(bonnie, schoolTa...</td>\n",
       "      <td>Uncertain</td>\n",
       "      <td>1014</td>\n",
       "    </tr>\n",
       "    <tr>\n",
       "      <th>1</th>\n",
       "      <td>380</td>\n",
       "      <td>People in this club who perform in school tale...</td>\n",
       "      <td>∀x (InThisClub(x) ∧ PerformOftenIn(x, schoolTa...</td>\n",
       "      <td>If Bonnie is either both a young child or teen...</td>\n",
       "      <td>¬((YoungChildren(bonnie) ⊕ Teenager(bonnie)) ∧...</td>\n",
       "      <td>True</td>\n",
       "      <td>1015</td>\n",
       "    </tr>\n",
       "    <tr>\n",
       "      <th>2</th>\n",
       "      <td>380</td>\n",
       "      <td>People in this club who perform in school tale...</td>\n",
       "      <td>∀x (InThisClub(x) ∧ PerformOftenIn(x, schoolTa...</td>\n",
       "      <td>If Bonnie either chaperones high school dances...</td>\n",
       "      <td>(Chaperone(bonnie, highSchoolDance) ⊕ Perform(...</td>\n",
       "      <td>False</td>\n",
       "      <td>1016</td>\n",
       "    </tr>\n",
       "    <tr>\n",
       "      <th>4</th>\n",
       "      <td>426</td>\n",
       "      <td>All employees who schedule a meeting with thei...</td>\n",
       "      <td>∀x ((Employee(x) ∧ Schedule(x, meeting, custom...</td>\n",
       "      <td>James does not have lunch in the company.</td>\n",
       "      <td>¬HasLunch(james, company)</td>\n",
       "      <td>Uncertain</td>\n",
       "      <td>1209</td>\n",
       "    </tr>\n",
       "    <tr>\n",
       "      <th>5</th>\n",
       "      <td>426</td>\n",
       "      <td>All employees who schedule a meeting with thei...</td>\n",
       "      <td>∀x ((Employee(x) ∧ Schedule(x, meeting, custom...</td>\n",
       "      <td>If James is either a manager or in other count...</td>\n",
       "      <td>Manager(james) → ¬Work(james, home)</td>\n",
       "      <td>True</td>\n",
       "      <td>1210</td>\n",
       "    </tr>\n",
       "    <tr>\n",
       "      <th>...</th>\n",
       "      <td>...</td>\n",
       "      <td>...</td>\n",
       "      <td>...</td>\n",
       "      <td>...</td>\n",
       "      <td>...</td>\n",
       "      <td>...</td>\n",
       "      <td>...</td>\n",
       "    </tr>\n",
       "    <tr>\n",
       "      <th>198</th>\n",
       "      <td>101</td>\n",
       "      <td>Ailton Silva, born in 1995, is commonly known ...</td>\n",
       "      <td>BornIn(ailtonSilva, year1995) ∧ CommonlyKnownA...</td>\n",
       "      <td>No one playing for Nautico is Brazilian.</td>\n",
       "      <td>∀x (PlayFor(x, nautico) → ¬Brazilian(x))</td>\n",
       "      <td>False</td>\n",
       "      <td>304</td>\n",
       "    </tr>\n",
       "    <tr>\n",
       "      <th>199</th>\n",
       "      <td>101</td>\n",
       "      <td>Ailton Silva, born in 1995, is commonly known ...</td>\n",
       "      <td>BornIn(ailtonSilva, year1995) ∧ CommonlyKnownA...</td>\n",
       "      <td>Ailton Silva does not play for a football club.</td>\n",
       "      <td>∀x (FootballClub(x) → ¬PlayFor(ailtonSilva, x))</td>\n",
       "      <td>False</td>\n",
       "      <td>305</td>\n",
       "    </tr>\n",
       "    <tr>\n",
       "      <th>200</th>\n",
       "      <td>101</td>\n",
       "      <td>Ailton Silva, born in 1995, is commonly known ...</td>\n",
       "      <td>BornIn(ailtonSilva, year1995) ∧ CommonlyKnownA...</td>\n",
       "      <td>Ailton was not loaned out to a football club.</td>\n",
       "      <td>∀x (FootballClub(x) → ¬LoanedTo(ailton, x))</td>\n",
       "      <td>False</td>\n",
       "      <td>306</td>\n",
       "    </tr>\n",
       "    <tr>\n",
       "      <th>201</th>\n",
       "      <td>101</td>\n",
       "      <td>Ailton Silva, born in 1995, is commonly known ...</td>\n",
       "      <td>BornIn(ailtonSilva, year1995) ∧ CommonlyKnownA...</td>\n",
       "      <td>Ailton Silva played for Fluminense.</td>\n",
       "      <td>PlayFor(ailtonSilva, fluminense)</td>\n",
       "      <td>Uncertain</td>\n",
       "      <td>307</td>\n",
       "    </tr>\n",
       "    <tr>\n",
       "      <th>202</th>\n",
       "      <td>101</td>\n",
       "      <td>Ailton Silva, born in 1995, is commonly known ...</td>\n",
       "      <td>BornIn(ailtonSilva, year1995) ∧ CommonlyKnownA...</td>\n",
       "      <td>Ailton Silva was loaned out to a football club.</td>\n",
       "      <td>∃x (FootballClub(x) ∧ LoanedTo(ailtonSilva, x))</td>\n",
       "      <td>Uncertain</td>\n",
       "      <td>308</td>\n",
       "    </tr>\n",
       "  </tbody>\n",
       "</table>\n",
       "<p>181 rows × 7 columns</p>\n",
       "</div>"
      ],
      "text/plain": [
       "     story_id                                           premises  \\\n",
       "0         380  People in this club who perform in school tale...   \n",
       "1         380  People in this club who perform in school tale...   \n",
       "2         380  People in this club who perform in school tale...   \n",
       "4         426  All employees who schedule a meeting with thei...   \n",
       "5         426  All employees who schedule a meeting with thei...   \n",
       "..        ...                                                ...   \n",
       "198       101  Ailton Silva, born in 1995, is commonly known ...   \n",
       "199       101  Ailton Silva, born in 1995, is commonly known ...   \n",
       "200       101  Ailton Silva, born in 1995, is commonly known ...   \n",
       "201       101  Ailton Silva, born in 1995, is commonly known ...   \n",
       "202       101  Ailton Silva, born in 1995, is commonly known ...   \n",
       "\n",
       "                                          premises-FOL  \\\n",
       "0    ∀x (InThisClub(x) ∧ PerformOftenIn(x, schoolTa...   \n",
       "1    ∀x (InThisClub(x) ∧ PerformOftenIn(x, schoolTa...   \n",
       "2    ∀x (InThisClub(x) ∧ PerformOftenIn(x, schoolTa...   \n",
       "4    ∀x ((Employee(x) ∧ Schedule(x, meeting, custom...   \n",
       "5    ∀x ((Employee(x) ∧ Schedule(x, meeting, custom...   \n",
       "..                                                 ...   \n",
       "198  BornIn(ailtonSilva, year1995) ∧ CommonlyKnownA...   \n",
       "199  BornIn(ailtonSilva, year1995) ∧ CommonlyKnownA...   \n",
       "200  BornIn(ailtonSilva, year1995) ∧ CommonlyKnownA...   \n",
       "201  BornIn(ailtonSilva, year1995) ∧ CommonlyKnownA...   \n",
       "202  BornIn(ailtonSilva, year1995) ∧ CommonlyKnownA...   \n",
       "\n",
       "                                            conclusion  \\\n",
       "0        Bonnie performs in school talent shows often.   \n",
       "1    If Bonnie is either both a young child or teen...   \n",
       "2    If Bonnie either chaperones high school dances...   \n",
       "4            James does not have lunch in the company.   \n",
       "5    If James is either a manager or in other count...   \n",
       "..                                                 ...   \n",
       "198           No one playing for Nautico is Brazilian.   \n",
       "199    Ailton Silva does not play for a football club.   \n",
       "200      Ailton was not loaned out to a football club.   \n",
       "201                Ailton Silva played for Fluminense.   \n",
       "202    Ailton Silva was loaned out to a football club.   \n",
       "\n",
       "                                        conclusion-FOL      label  example_id  \n",
       "0    InThisClub(bonnie) ∧ (Perform(bonnie, schoolTa...  Uncertain        1014  \n",
       "1    ¬((YoungChildren(bonnie) ⊕ Teenager(bonnie)) ∧...       True        1015  \n",
       "2    (Chaperone(bonnie, highSchoolDance) ⊕ Perform(...      False        1016  \n",
       "4                            ¬HasLunch(james, company)  Uncertain        1209  \n",
       "5                  Manager(james) → ¬Work(james, home)       True        1210  \n",
       "..                                                 ...        ...         ...  \n",
       "198           ∀x (PlayFor(x, nautico) → ¬Brazilian(x))      False         304  \n",
       "199    ∀x (FootballClub(x) → ¬PlayFor(ailtonSilva, x))      False         305  \n",
       "200        ∀x (FootballClub(x) → ¬LoanedTo(ailton, x))      False         306  \n",
       "201                   PlayFor(ailtonSilva, fluminense)  Uncertain         307  \n",
       "202    ∃x (FootballClub(x) ∧ LoanedTo(ailtonSilva, x))  Uncertain         308  \n",
       "\n",
       "[181 rows x 7 columns]"
      ]
     },
     "execution_count": 5,
     "metadata": {},
     "output_type": "execute_result"
    }
   ],
   "source": [
    "validation_df"
   ]
  },
  {
   "cell_type": "code",
   "execution_count": 6,
   "metadata": {},
   "outputs": [
    {
     "name": "stdout",
     "output_type": "stream",
     "text": [
      "The following is a first-order logic (FOL) problem.\n",
      "The problem is to determine whether the conclusion follows from the premises.\n",
      "The premises are given in the form of a set of first-order logic sentences.\n",
      "The conclusion is given in the form of a single first-order logic sentence.\n",
      "The task is to translate each of the premises and conclusions into FOL expressions, so that the expressions can be evaluated by a theorem solver to determine whether the conclusion follows from the premises.\n",
      "Expressions should be adhere to the format of the Python NLTK package logic module:\n",
      "\n",
      "The following is an example of a problem:\n",
      "<PREMISES>\n",
      "All dispensable things are environment-friendly.\n",
      "All woodware is dispensable.\n",
      "All paper is woodware.\n",
      "No good things are bad.\n",
      "All environment-friendly things are good.\n",
      "A worksheet is either paper or is environment-friendly.\n",
      "</PREMISES>\n",
      "<CONCLUSION>\n",
      "A worksheet is not dispensable.\n",
      "</CONCLUSION>\n",
      "\n",
      "The problem is answered in this format:\n",
      "<EVALUATE>\n",
      "TEXT: All dispensable things are environment-friendly.\n",
      "FOL: all x. (Dispensable(x) -> EnvironmentFriendly(x))\n",
      "TEXT: All woodware is dispensable.\n",
      "FOL: all x. (Woodware(x) -> Dispensable(x))\n",
      "TEXT: All paper is woodware.\n",
      "FOL: all x. (Paper(x) -> Woodware(x))\n",
      "TEXT: No good things are bad.\n",
      "FOL: all x. (Good(x) -> -Bad(x))\n",
      "TEXT: All environment-friendly things are good.\n",
      "FOL: all x. (EnvironmentFriendly(x) -> Good(x))\n",
      "TEXT: A worksheet is either paper or is environment-friendly.\n",
      "FOL: ((Paper(Worksheet) & -EnvironmentFriendly( Worksheet)) | (-Paper(Worksheet) & EnvironmentFriendly(Worksheet)))\n",
      "TEXT: A worksheet is not dispensable.\n",
      "FOL: -Dispensable(Worksheet)\n",
      "</EVALUATE>\n",
      "\n",
      "<PREMISES>\n",
      "People in this club who perform in school talent shows often attend and are very engaged with school events.\n",
      "People in this club either perform in school talent shows often or are inactive and disinterested community members.\n",
      "People in this club who chaperone high school dances are not students who attend the school.\n",
      "All people in this club who are inactive and disinterested members of their community chaperone high school dances.\n",
      "All young children and teenagers in this club who wish to further their academic careers and educational opportunities are students who attend the school. \n",
      "Bonnie is in this club and she either both attends and is very engaged with school events and is a student who attends the school or is not someone who both attends and is very engaged with school events and is not a student who attends the school.\n",
      "</PREMISES>\n",
      "<CONCLUSION>\n",
      "Bonnie performs in school talent shows often.\n",
      "</CONCLUSION>\n",
      "\n",
      "<EVALUATE>\n"
     ]
    }
   ],
   "source": [
    "folio_prompt = \"\"\"\\\n",
    "The following is a first-order logic (FOL) problem.\n",
    "The problem is to determine whether the conclusion follows from the premises.\n",
    "The premises are given in the form of a set of first-order logic sentences.\n",
    "The conclusion is given in the form of a single first-order logic sentence.\n",
    "The task is to translate each of the premises and conclusions into FOL expressions, so that the expressions can be evaluated by a theorem solver to determine whether the conclusion follows from the premises.\n",
    "Expressions should be adhere to the format of the Python NLTK package logic module:\n",
    "\n",
    "The following is an example of a problem:\n",
    "<PREMISES>\n",
    "All dispensable things are environment-friendly.\n",
    "All woodware is dispensable.\n",
    "All paper is woodware.\n",
    "No good things are bad.\n",
    "All environment-friendly things are good.\n",
    "A worksheet is either paper or is environment-friendly.\n",
    "</PREMISES>\n",
    "<CONCLUSION>\n",
    "A worksheet is not dispensable.\n",
    "</CONCLUSION>\n",
    "\n",
    "The problem is answered in this format:\n",
    "<EVALUATE>\n",
    "TEXT: All dispensable things are environment-friendly.\n",
    "FOL: all x. (Dispensable(x) -> EnvironmentFriendly(x))\n",
    "TEXT: All woodware is dispensable.\n",
    "FOL: all x. (Woodware(x) -> Dispensable(x))\n",
    "TEXT: All paper is woodware.\n",
    "FOL: all x. (Paper(x) -> Woodware(x))\n",
    "TEXT: No good things are bad.\n",
    "FOL: all x. (Good(x) -> -Bad(x))\n",
    "TEXT: All environment-friendly things are good.\n",
    "FOL: all x. (EnvironmentFriendly(x) -> Good(x))\n",
    "TEXT: A worksheet is either paper or is environment-friendly.\n",
    "FOL: ((Paper(Worksheet) & -EnvironmentFriendly( Worksheet)) | (-Paper(Worksheet) & EnvironmentFriendly(Worksheet)))\n",
    "TEXT: A worksheet is not dispensable.\n",
    "FOL: -Dispensable(Worksheet)\n",
    "</EVALUATE>\n",
    "\n",
    "<PREMISES>\n",
    "{premises}\n",
    "</PREMISES>\n",
    "<CONCLUSION>\n",
    "{conclusion}\n",
    "</CONCLUSION>\n",
    "\n",
    "<EVALUATE>\\\n",
    "\"\"\"\n",
    "\n",
    "def format_prompt(premises, conclusion):\n",
    "    return folio_prompt.format(premises=premises, conclusion=conclusion)\n",
    "\n",
    "example_row = validation_df.iloc[0]\n",
    "print(format_prompt(example_row.premises, example_row.conclusion))"
   ]
  },
  {
   "cell_type": "code",
   "execution_count": 35,
   "metadata": {},
   "outputs": [
    {
     "name": "stderr",
     "output_type": "stream",
     "text": [
      "Loading checkpoint shards: 100%|██████████| 2/2 [00:02<00:00,  1.09s/it]\n"
     ]
    }
   ],
   "source": [
    "# Use a pipeline as a high-level helper\n",
    "from transformers import pipeline\n",
    "\n",
    "# model = \"bigcode/starcoder2-3b\"\n",
    "model = \"meta-llama/Llama-3.2-3B-Instruct\"\n",
    "pipe = pipeline(\"text-generation\", model=model, device_map=\"auto\", torch_dtype=torch.float16)"
   ]
  },
  {
   "cell_type": "code",
   "execution_count": null,
   "metadata": {},
   "outputs": [
    {
     "name": "stderr",
     "output_type": "stream",
     "text": [
      "Setting `pad_token_id` to `eos_token_id`:None for open-end generation.\n"
     ]
    }
   ],
   "source": [
    "prompt = format_prompt(example_row.premises, example_row.conclusion)\n",
    "chat = [\n",
    "    {\"role\": \"user\", \"content\": prompt}\n",
    "]\n",
    "response = pipe(chat, max_new_tokens=256)[0]['generated_text'][-1]['content']"
   ]
  },
  {
   "cell_type": "code",
   "execution_count": 37,
   "metadata": {},
   "outputs": [
    {
     "name": "stdout",
     "output_type": "stream",
     "text": [
      "People in this club who perform in school talent shows often attend and are very engaged with school events.\n",
      "People in this club either perform in school talent shows often or are inactive and disinterested community members.\n",
      "People in this club who chaperone high school dances are not students who attend the school.\n",
      "All people in this club who are inactive and disinterested members of their community chaperone high school dances.\n",
      "All young children and teenagers in this club who wish to further their academic careers and educational opportunities are students who attend the school. \n",
      "Bonnie is in this club and she either both attends and is very engaged with school events and is a student who attends the school or is not someone who both attends and is very engaged with school events and is not a student who attends the school.\n"
     ]
    }
   ],
   "source": [
    "print(example_row.premises)"
   ]
  },
  {
   "cell_type": "code",
   "execution_count": 38,
   "metadata": {},
   "outputs": [
    {
     "name": "stdout",
     "output_type": "stream",
     "text": [
      "Bonnie performs in school talent shows often.\n"
     ]
    }
   ],
   "source": [
    "print(example_row.conclusion)"
   ]
  },
  {
   "cell_type": "code",
   "execution_count": 39,
   "metadata": {},
   "outputs": [
    {
     "name": "stdout",
     "output_type": "stream",
     "text": [
      "Here's a Python function that translates the given FOL problem into a format that can be evaluated by a theorem solver.\n",
      "\n",
      "```python\n",
      "def translate_fol_problem(prems, concl):\n",
      "    # Define the predicates\n",
      "    predicates = {\n",
      "        'Dispensable': 'Dispensable',\n",
      "        'EnvironmentFriendly': 'EnvironmentFriendly',\n",
      "        'Woodware': 'Woodware',\n",
      "        'Paper': 'Paper',\n",
      "        'Good': 'Good',\n",
      "        'Bad': 'Bad',\n",
      "        'Worksheet': 'Worksheet'\n",
      "    }\n",
      "\n",
      "    # Define the logical operators\n",
      "    operators = {\n",
      "        'all': 'all',\n",
      "        'not': 'not',\n",
      "        'and': '&',\n",
      "        'or': '|',\n",
      "        'implies': '->',\n",
      "        'equivalent': '<->'\n",
      "    }\n",
      "\n",
      "    # Translate the premises\n",
      "    translated_prems = []\n",
      "    for prems_str in prems:\n",
      "        if 'All' in prems_str:\n",
      "            if 'and' in prems_str:\n",
      "                if 'or' in prems_str:\n",
      "                    translated_prems.append(f'{operators[\"all\"]} x. ({prems_str.split(\"and\")[0].strip()} & {prems_str.split(\"or\")[1].strip()})')\n",
      "                else:\n",
      "                    translated_prems.append(f'{operators[\"all\"]} x. ({prems_str.split(\"and\")[0].strip()} & {-prems_str.split(\"and\")[1].strip()})')\n",
      "            else:\n",
      "                if 'or' in prems_str:\n",
      "                    translated_prems.append(f'{operators[\"all\"]} x. ({prems_str.split(\"or\")[0].strip()} | {-prems_str.split(\"or\")[1].strip()})')\n",
      "                else:\n",
      "                    translated_prems.append(f'{operators[\"all\"]} x. ({prems_str.strip()})')\n",
      "        else:\n",
      "            translated_prems.append(f'{operators[\"not\"]} {prems_str.strip()}')\n",
      "\n",
      "    # Translate the conclusion\n",
      "    translated_concl = f'{operators[\"not\"]} {concl.strip()}'\n",
      "\n",
      "    # Translate the predicates\n",
      "    translated_predicates = {pred: predicates[pred] for pred in predicates}\n",
      "\n",
      "    # Combine the translated premises and conclusion\n",
      "    fol_expression = f'{operators[\"and\"]}. {translated_prems[0]}\\n{operators[\"and\"]}. {translated_prems[1]}\\n{operators[\"and\"]}. {translated_prems[2]}\\n{operators[\"and\"]}. {translated_prems[3]}\\\n"
     ]
    }
   ],
   "source": [
    "print(response)"
   ]
  },
  {
   "cell_type": "code",
   "execution_count": 1,
   "metadata": {},
   "outputs": [],
   "source": [
    "from nltk.sem.logic import LogicParser\n",
    "from nltk.inference.prover9 import Prover9\n",
    "\n",
    "def extract_fol_strings(text):\n",
    "    lines = text.split(\"\\n\")\n",
    "    fol_lines = [line[5:] for line in lines if \"FOL:\" in line]\n",
    "    return fol_lines\n",
    "\n",
    "def convert_fol_exps(fol_strings):\n",
    "    tlp = LogicParser(True)\n",
    "    fol_exps = [tlp.parse(fol_string) for fol_string in fol_strings]\n",
    "    return fol_exps\n",
    "\n",
    "prover = Prover9()"
   ]
  },
  {
   "cell_type": "code",
   "execution_count": 2,
   "metadata": {},
   "outputs": [
    {
     "name": "stdout",
     "output_type": "stream",
     "text": [
      "/uufs/chpc.utah.edu/common/home/u1283221/cs6964/linc/prover9/source/bin\n"
     ]
    }
   ],
   "source": [
    "import os\n",
    "os.environ['PROVER9'] = '/uufs/chpc.utah.edu/common/home/u1283221/cs6964/linc/prover9/source/bin'\n",
    "print(os.environ['PROVER9'])"
   ]
  },
  {
   "cell_type": "code",
   "execution_count": 3,
   "metadata": {},
   "outputs": [
    {
     "data": {
      "text/plain": [
       "False"
      ]
     },
     "execution_count": 3,
     "metadata": {},
     "output_type": "execute_result"
    }
   ],
   "source": [
    "answered_prompt_example = \"\"\"\\\n",
    "<EVALUATE>\n",
    "TEXT: All athletes are good at sports.\n",
    "FOL: all x. (Athlete(x) -> GoodAtSports(x))\n",
    "TEXT: All Olympic gold medal winners are good athletes.\n",
    "FOL: all x. (OlympicGoldMedalWinner(x) -> Athlete(x))\n",
    "TEXT: No scientists are good at sports.\n",
    "FOL: all x. (Scientist(x) -> -GoodAtSports(x))\n",
    "TEXT: All Nobel laureates are scientists.\n",
    "FOL: all x. (NobelLaureate(x) -> Scientist(x))\n",
    "TEXT: Amy is good at sports or Amy is an Olympic gold medal winner.\n",
    "FOL: GoodAtSports(amy) | OlympicGoldMedalWinner(amy)\n",
    "TEXT: If Amy is not a Nobel laureate, then Amy is not an Olympic gold medal winner.\n",
    "FOL: -NobelLaureate(amy) -> -OlympicGoldMedalWinner(amy)\n",
    "TEXT: If Amy is not an Olympic gold medal winner, then Amy is a Nobel laureate.\n",
    "FOL: -OlympicGoldMedalWinner(amy) -> NobelLaureate(amy)\n",
    "</EVALUATE>\\\n",
    "\"\"\"\n",
    "\n",
    "example_fol_strings = extract_fol_strings(answered_prompt_example)\n",
    "example_fol_exps = convert_fol_exps(example_fol_strings)\n",
    "prover.prove(example_fol_exps[-1], example_fol_exps[:-1])"
   ]
  },
  {
   "cell_type": "code",
   "execution_count": 13,
   "metadata": {},
   "outputs": [
    {
     "data": {
      "text/plain": [
       "<AllExpression all x y.((LaLiga(x) & LaLiga(y) & MorePoints(x,y)) -> HigherRank(x,y))>"
      ]
     },
     "execution_count": 13,
     "metadata": {},
     "output_type": "execute_result"
    }
   ],
   "source": [
    "tlp = LogicParser(True)\n",
    "tlp.parse(\"all x all y (LaLiga(x) & LaLiga(y) & MorePoints(x, y) -> HigherRank(x, y))\") "
   ]
  },
  {
   "cell_type": "code",
   "execution_count": 29,
   "metadata": {},
   "outputs": [
    {
     "ename": "LogicalExpressionException",
     "evalue": "Unexpected token: '&'.  Expected token ')'.\nBonnie(ClubMember(Bonnie) & ((Attends(Bonnie) & VeryEngaged(Bonnie) & Attends(Bonnie)) | (-Attends(Bonnie) & -VeryEngaged(Bonnie) & -Attends(Bonnie))))\n                          ^",
     "output_type": "error",
     "traceback": [
      "\u001b[0;31m---------------------------------------------------------------------------\u001b[0m",
      "\u001b[0;31mUnexpectedTokenException\u001b[0m                  Traceback (most recent call last)",
      "File \u001b[0;32m~/miniconda3/envs/linc/lib/python3.12/site-packages/nltk/sem/logic.py:154\u001b[0m, in \u001b[0;36mLogicParser.parse\u001b[0;34m(self, data, signature)\u001b[0m\n\u001b[1;32m    153\u001b[0m \u001b[38;5;28;01mtry\u001b[39;00m:\n\u001b[0;32m--> 154\u001b[0m     result \u001b[38;5;241m=\u001b[39m \u001b[38;5;28;43mself\u001b[39;49m\u001b[38;5;241;43m.\u001b[39;49m\u001b[43mprocess_next_expression\u001b[49m\u001b[43m(\u001b[49m\u001b[38;5;28;43;01mNone\u001b[39;49;00m\u001b[43m)\u001b[49m\n\u001b[1;32m    155\u001b[0m     \u001b[38;5;28;01mif\u001b[39;00m \u001b[38;5;28mself\u001b[39m\u001b[38;5;241m.\u001b[39minRange(\u001b[38;5;241m0\u001b[39m):\n",
      "File \u001b[0;32m~/miniconda3/envs/linc/lib/python3.12/site-packages/nltk/sem/logic.py:290\u001b[0m, in \u001b[0;36mLogicParser.process_next_expression\u001b[0;34m(self, context)\u001b[0m\n\u001b[1;32m    286\u001b[0m     \u001b[38;5;28;01mraise\u001b[39;00m ExpectedMoreTokensException(\n\u001b[1;32m    287\u001b[0m         \u001b[38;5;28mself\u001b[39m\u001b[38;5;241m.\u001b[39m_currentIndex \u001b[38;5;241m+\u001b[39m \u001b[38;5;241m1\u001b[39m, message\u001b[38;5;241m=\u001b[39m\u001b[38;5;124m\"\u001b[39m\u001b[38;5;124mExpression expected.\u001b[39m\u001b[38;5;124m\"\u001b[39m\n\u001b[1;32m    288\u001b[0m     ) \u001b[38;5;28;01mfrom\u001b[39;00m \u001b[38;5;21;01me\u001b[39;00m\n\u001b[0;32m--> 290\u001b[0m accum \u001b[38;5;241m=\u001b[39m \u001b[38;5;28;43mself\u001b[39;49m\u001b[38;5;241;43m.\u001b[39;49m\u001b[43mhandle\u001b[49m\u001b[43m(\u001b[49m\u001b[43mtok\u001b[49m\u001b[43m,\u001b[49m\u001b[43m \u001b[49m\u001b[43mcontext\u001b[49m\u001b[43m)\u001b[49m\n\u001b[1;32m    292\u001b[0m \u001b[38;5;28;01mif\u001b[39;00m \u001b[38;5;129;01mnot\u001b[39;00m accum:\n",
      "File \u001b[0;32m~/miniconda3/envs/linc/lib/python3.12/site-packages/nltk/sem/logic.py:303\u001b[0m, in \u001b[0;36mLogicParser.handle\u001b[0;34m(self, tok, context)\u001b[0m\n\u001b[1;32m    302\u001b[0m \u001b[38;5;28;01mif\u001b[39;00m \u001b[38;5;28mself\u001b[39m\u001b[38;5;241m.\u001b[39misvariable(tok):\n\u001b[0;32m--> 303\u001b[0m     \u001b[38;5;28;01mreturn\u001b[39;00m \u001b[38;5;28;43mself\u001b[39;49m\u001b[38;5;241;43m.\u001b[39;49m\u001b[43mhandle_variable\u001b[49m\u001b[43m(\u001b[49m\u001b[43mtok\u001b[49m\u001b[43m,\u001b[49m\u001b[43m \u001b[49m\u001b[43mcontext\u001b[49m\u001b[43m)\u001b[49m\n\u001b[1;32m    305\u001b[0m \u001b[38;5;28;01melif\u001b[39;00m tok \u001b[38;5;129;01min\u001b[39;00m Tokens\u001b[38;5;241m.\u001b[39mNOT_LIST:\n",
      "File \u001b[0;32m~/miniconda3/envs/linc/lib/python3.12/site-packages/nltk/sem/logic.py:359\u001b[0m, in \u001b[0;36mLogicParser.handle_variable\u001b[0;34m(self, tok, context)\u001b[0m\n\u001b[1;32m    356\u001b[0m         accum \u001b[38;5;241m=\u001b[39m \u001b[38;5;28mself\u001b[39m\u001b[38;5;241m.\u001b[39mmake_ApplicationExpression(\n\u001b[1;32m    357\u001b[0m             accum, \u001b[38;5;28mself\u001b[39m\u001b[38;5;241m.\u001b[39mprocess_next_expression(APP)\n\u001b[1;32m    358\u001b[0m         )\n\u001b[0;32m--> 359\u001b[0m     \u001b[38;5;28;43mself\u001b[39;49m\u001b[38;5;241;43m.\u001b[39;49m\u001b[43massertNextToken\u001b[49m\u001b[43m(\u001b[49m\u001b[43mTokens\u001b[49m\u001b[38;5;241;43m.\u001b[39;49m\u001b[43mCLOSE\u001b[49m\u001b[43m)\u001b[49m\n\u001b[1;32m    360\u001b[0m \u001b[38;5;28;01mreturn\u001b[39;00m accum\n",
      "File \u001b[0;32m~/miniconda3/envs/linc/lib/python3.12/site-packages/nltk/sem/logic.py:573\u001b[0m, in \u001b[0;36mLogicParser.assertNextToken\u001b[0;34m(self, expected)\u001b[0m\n\u001b[1;32m    572\u001b[0m \u001b[38;5;28;01mif\u001b[39;00m tok \u001b[38;5;241m!=\u001b[39m expected:\n\u001b[0;32m--> 573\u001b[0m     \u001b[38;5;28;01mraise\u001b[39;00m UnexpectedTokenException(\u001b[38;5;28mself\u001b[39m\u001b[38;5;241m.\u001b[39m_currentIndex, tok, expected)\n",
      "\u001b[0;31mUnexpectedTokenException\u001b[0m: Unexpected token: '&'.  Expected token ')'.",
      "\nThe above exception was the direct cause of the following exception:\n",
      "\u001b[0;31mLogicalExpressionException\u001b[0m                Traceback (most recent call last)",
      "Cell \u001b[0;32mIn[29], line 2\u001b[0m\n\u001b[1;32m      1\u001b[0m example_fol_strings \u001b[38;5;241m=\u001b[39m extract_fol_strings(response)\n\u001b[0;32m----> 2\u001b[0m example_fol_exps \u001b[38;5;241m=\u001b[39m \u001b[43mconvert_fol_exps\u001b[49m\u001b[43m(\u001b[49m\u001b[43mexample_fol_strings\u001b[49m\u001b[43m)\u001b[49m\n\u001b[1;32m      3\u001b[0m prover\u001b[38;5;241m.\u001b[39mprove(example_fol_exps[\u001b[38;5;241m-\u001b[39m\u001b[38;5;241m1\u001b[39m], example_fol_exps[:\u001b[38;5;241m-\u001b[39m\u001b[38;5;241m1\u001b[39m])\n",
      "Cell \u001b[0;32mIn[26], line 11\u001b[0m, in \u001b[0;36mconvert_fol_exps\u001b[0;34m(fol_strings)\u001b[0m\n\u001b[1;32m      9\u001b[0m \u001b[38;5;28;01mdef\u001b[39;00m \u001b[38;5;21mconvert_fol_exps\u001b[39m(fol_strings):\n\u001b[1;32m     10\u001b[0m     tlp \u001b[38;5;241m=\u001b[39m LogicParser(\u001b[38;5;28;01mTrue\u001b[39;00m)\n\u001b[0;32m---> 11\u001b[0m     fol_exps \u001b[38;5;241m=\u001b[39m [\u001b[43mtlp\u001b[49m\u001b[38;5;241;43m.\u001b[39;49m\u001b[43mparse\u001b[49m\u001b[43m(\u001b[49m\u001b[43mfol_string\u001b[49m\u001b[43m)\u001b[49m \u001b[38;5;28;01mfor\u001b[39;00m fol_string \u001b[38;5;129;01min\u001b[39;00m fol_strings]\n\u001b[1;32m     12\u001b[0m     \u001b[38;5;28;01mreturn\u001b[39;00m fol_exps\n",
      "File \u001b[0;32m~/miniconda3/envs/linc/lib/python3.12/site-packages/nltk/sem/logic.py:159\u001b[0m, in \u001b[0;36mLogicParser.parse\u001b[0;34m(self, data, signature)\u001b[0m\n\u001b[1;32m    157\u001b[0m \u001b[38;5;28;01mexcept\u001b[39;00m LogicalExpressionException \u001b[38;5;28;01mas\u001b[39;00m e:\n\u001b[1;32m    158\u001b[0m     msg \u001b[38;5;241m=\u001b[39m \u001b[38;5;124m\"\u001b[39m\u001b[38;5;132;01m{}\u001b[39;00m\u001b[38;5;130;01m\\n\u001b[39;00m\u001b[38;5;132;01m{}\u001b[39;00m\u001b[38;5;130;01m\\n\u001b[39;00m\u001b[38;5;132;01m{}\u001b[39;00m\u001b[38;5;124m^\u001b[39m\u001b[38;5;124m\"\u001b[39m\u001b[38;5;241m.\u001b[39mformat(e, data, \u001b[38;5;124m\"\u001b[39m\u001b[38;5;124m \u001b[39m\u001b[38;5;124m\"\u001b[39m \u001b[38;5;241m*\u001b[39m mapping[e\u001b[38;5;241m.\u001b[39mindex \u001b[38;5;241m-\u001b[39m \u001b[38;5;241m1\u001b[39m])\n\u001b[0;32m--> 159\u001b[0m     \u001b[38;5;28;01mraise\u001b[39;00m LogicalExpressionException(\u001b[38;5;28;01mNone\u001b[39;00m, msg) \u001b[38;5;28;01mfrom\u001b[39;00m \u001b[38;5;21;01me\u001b[39;00m\n\u001b[1;32m    161\u001b[0m \u001b[38;5;28;01mif\u001b[39;00m \u001b[38;5;28mself\u001b[39m\u001b[38;5;241m.\u001b[39mtype_check:\n\u001b[1;32m    162\u001b[0m     result\u001b[38;5;241m.\u001b[39mtypecheck(signature)\n",
      "\u001b[0;31mLogicalExpressionException\u001b[0m: Unexpected token: '&'.  Expected token ')'.\nBonnie(ClubMember(Bonnie) & ((Attends(Bonnie) & VeryEngaged(Bonnie) & Attends(Bonnie)) | (-Attends(Bonnie) & -VeryEngaged(Bonnie) & -Attends(Bonnie))))\n                          ^"
     ]
    }
   ],
   "source": [
    "example_fol_strings = extract_fol_strings(response)\n",
    "example_fol_exps = convert_fol_exps(example_fol_strings)\n",
    "prover.prove(example_fol_exps[-1], example_fol_exps[:-1])"
   ]
  },
  {
   "cell_type": "code",
   "execution_count": 15,
   "metadata": {},
   "outputs": [
    {
     "data": {
      "text/plain": [
       "['∀x (InThisClub(x) ∧ PerformOftenIn(x, schoolTalentShow) → Attend(x, schoolEvent) ∧ VeryEngagedWith(x, schoolEvent))',\n",
       " '∀x (InThisClub(x) → PerformOftenIn(x, schoolTalentShow) ⊕ (InActive(x) ∧ Disinterested(x) ∧ MemberOf(x, community)))',\n",
       " '∀x (InThisClub(x) ∧ Chaperone(x, highSchoolDance) → ¬(Studen(x) ∧ AttendSchool(x)))',\n",
       " '∀x (InThisClub(x) ∧ (InActive(x) ∧ Disinterested(x) ∧ MemberOf(x, community)) → Chaperone(x, highSchoolDances))',\n",
       " '∀x (InThisClub(x) ∧ (YoungChildren(x) ⊕ Teenager(x)) ∧ WishToFurther(x, academicCareer)) → Studen(x) ∧ AttendSchool(x))',\n",
       " 'InThisClub(bonnie) ∧ ¬((Attend(x, schoolEvent) ∧ VeryEngagedWith(bonnie, schoolEvent)) ⊕ (Studen(bonne) ∧ AttendSchool(bonnie)))']"
      ]
     },
     "execution_count": 15,
     "metadata": {},
     "output_type": "execute_result"
    }
   ],
   "source": [
    "example_row[\"premises-FOL\"].split(\"\\n\")"
   ]
  },
  {
   "cell_type": "code",
   "execution_count": null,
   "metadata": {},
   "outputs": [
    {
     "data": {
      "text/plain": [
       "'∀x ((Employee(x) ∧ Schedule(x, meeting, customers)) → AppearIn(x, company))\\n∀x ((Employee(x) ∧ HasLunch(x, company)) → Schedule(x, meeting, customers))\\n∀x (Employee(x) → (HasLunch(x, company) ⊕ HasLunch(x, home)))\\n∀x ((Employee(x) ∧ HasLunch(x, home)) → Work(x, home))\\n∀x ((Employee(x) ∧ (¬In(x, homecountry))) → Work(x, home))\\n∀x (Manager(x) → ¬Work(x, home))\\n¬(Manager(james) ⊕ AppearIn(james, company))'"
      ]
     },
     "execution_count": 21,
     "metadata": {},
     "output_type": "execute_result"
    }
   ],
   "source": [
    "validation_df.iloc[3][\"premises-FOL\"]"
   ]
  },
  {
   "cell_type": "code",
   "execution_count": null,
   "metadata": {},
   "outputs": [],
   "source": [
    "# folio_symbols_map = {\n",
    "#     \"¬\": \"-\",\n",
    "#     \"∧\": \"&\",\n",
    "#     \"∨\": \"|\",\n",
    "#     \"∀\": \"all \",\n",
    "# }"
   ]
  },
  {
   "cell_type": "code",
   "execution_count": 16,
   "metadata": {},
   "outputs": [
    {
     "ename": "LogicalExpressionException",
     "evalue": "Unexpected token: '∧'.  Expected token ')'.\n∀x (InThisClub(x) ∧ PerformOftenIn(x, schoolTalentShow) → Attend(x, schoolEvent) ∧ VeryEngagedWith(x, schoolEvent))\n                  ^",
     "output_type": "error",
     "traceback": [
      "\u001b[0;31m---------------------------------------------------------------------------\u001b[0m",
      "\u001b[0;31mUnexpectedTokenException\u001b[0m                  Traceback (most recent call last)",
      "File \u001b[0;32m~/miniconda3/envs/linc/lib/python3.12/site-packages/nltk/sem/logic.py:154\u001b[0m, in \u001b[0;36mLogicParser.parse\u001b[0;34m(self, data, signature)\u001b[0m\n\u001b[1;32m    153\u001b[0m \u001b[38;5;28;01mtry\u001b[39;00m:\n\u001b[0;32m--> 154\u001b[0m     result \u001b[38;5;241m=\u001b[39m \u001b[38;5;28;43mself\u001b[39;49m\u001b[38;5;241;43m.\u001b[39;49m\u001b[43mprocess_next_expression\u001b[49m\u001b[43m(\u001b[49m\u001b[38;5;28;43;01mNone\u001b[39;49;00m\u001b[43m)\u001b[49m\n\u001b[1;32m    155\u001b[0m     \u001b[38;5;28;01mif\u001b[39;00m \u001b[38;5;28mself\u001b[39m\u001b[38;5;241m.\u001b[39minRange(\u001b[38;5;241m0\u001b[39m):\n",
      "File \u001b[0;32m~/miniconda3/envs/linc/lib/python3.12/site-packages/nltk/sem/logic.py:290\u001b[0m, in \u001b[0;36mLogicParser.process_next_expression\u001b[0;34m(self, context)\u001b[0m\n\u001b[1;32m    286\u001b[0m     \u001b[38;5;28;01mraise\u001b[39;00m ExpectedMoreTokensException(\n\u001b[1;32m    287\u001b[0m         \u001b[38;5;28mself\u001b[39m\u001b[38;5;241m.\u001b[39m_currentIndex \u001b[38;5;241m+\u001b[39m \u001b[38;5;241m1\u001b[39m, message\u001b[38;5;241m=\u001b[39m\u001b[38;5;124m\"\u001b[39m\u001b[38;5;124mExpression expected.\u001b[39m\u001b[38;5;124m\"\u001b[39m\n\u001b[1;32m    288\u001b[0m     ) \u001b[38;5;28;01mfrom\u001b[39;00m \u001b[38;5;21;01me\u001b[39;00m\n\u001b[0;32m--> 290\u001b[0m accum \u001b[38;5;241m=\u001b[39m \u001b[38;5;28;43mself\u001b[39;49m\u001b[38;5;241;43m.\u001b[39;49m\u001b[43mhandle\u001b[49m\u001b[43m(\u001b[49m\u001b[43mtok\u001b[49m\u001b[43m,\u001b[49m\u001b[43m \u001b[49m\u001b[43mcontext\u001b[49m\u001b[43m)\u001b[49m\n\u001b[1;32m    292\u001b[0m \u001b[38;5;28;01mif\u001b[39;00m \u001b[38;5;129;01mnot\u001b[39;00m accum:\n",
      "File \u001b[0;32m~/miniconda3/envs/linc/lib/python3.12/site-packages/nltk/sem/logic.py:303\u001b[0m, in \u001b[0;36mLogicParser.handle\u001b[0;34m(self, tok, context)\u001b[0m\n\u001b[1;32m    302\u001b[0m \u001b[38;5;28;01mif\u001b[39;00m \u001b[38;5;28mself\u001b[39m\u001b[38;5;241m.\u001b[39misvariable(tok):\n\u001b[0;32m--> 303\u001b[0m     \u001b[38;5;28;01mreturn\u001b[39;00m \u001b[38;5;28;43mself\u001b[39;49m\u001b[38;5;241;43m.\u001b[39;49m\u001b[43mhandle_variable\u001b[49m\u001b[43m(\u001b[49m\u001b[43mtok\u001b[49m\u001b[43m,\u001b[49m\u001b[43m \u001b[49m\u001b[43mcontext\u001b[49m\u001b[43m)\u001b[49m\n\u001b[1;32m    305\u001b[0m \u001b[38;5;28;01melif\u001b[39;00m tok \u001b[38;5;129;01min\u001b[39;00m Tokens\u001b[38;5;241m.\u001b[39mNOT_LIST:\n",
      "File \u001b[0;32m~/miniconda3/envs/linc/lib/python3.12/site-packages/nltk/sem/logic.py:359\u001b[0m, in \u001b[0;36mLogicParser.handle_variable\u001b[0;34m(self, tok, context)\u001b[0m\n\u001b[1;32m    356\u001b[0m         accum \u001b[38;5;241m=\u001b[39m \u001b[38;5;28mself\u001b[39m\u001b[38;5;241m.\u001b[39mmake_ApplicationExpression(\n\u001b[1;32m    357\u001b[0m             accum, \u001b[38;5;28mself\u001b[39m\u001b[38;5;241m.\u001b[39mprocess_next_expression(APP)\n\u001b[1;32m    358\u001b[0m         )\n\u001b[0;32m--> 359\u001b[0m     \u001b[38;5;28;43mself\u001b[39;49m\u001b[38;5;241;43m.\u001b[39;49m\u001b[43massertNextToken\u001b[49m\u001b[43m(\u001b[49m\u001b[43mTokens\u001b[49m\u001b[38;5;241;43m.\u001b[39;49m\u001b[43mCLOSE\u001b[49m\u001b[43m)\u001b[49m\n\u001b[1;32m    360\u001b[0m \u001b[38;5;28;01mreturn\u001b[39;00m accum\n",
      "File \u001b[0;32m~/miniconda3/envs/linc/lib/python3.12/site-packages/nltk/sem/logic.py:573\u001b[0m, in \u001b[0;36mLogicParser.assertNextToken\u001b[0;34m(self, expected)\u001b[0m\n\u001b[1;32m    572\u001b[0m \u001b[38;5;28;01mif\u001b[39;00m tok \u001b[38;5;241m!=\u001b[39m expected:\n\u001b[0;32m--> 573\u001b[0m     \u001b[38;5;28;01mraise\u001b[39;00m UnexpectedTokenException(\u001b[38;5;28mself\u001b[39m\u001b[38;5;241m.\u001b[39m_currentIndex, tok, expected)\n",
      "\u001b[0;31mUnexpectedTokenException\u001b[0m: Unexpected token: '∧'.  Expected token ')'.",
      "\nThe above exception was the direct cause of the following exception:\n",
      "\u001b[0;31mLogicalExpressionException\u001b[0m                Traceback (most recent call last)",
      "Cell \u001b[0;32mIn[16], line 1\u001b[0m\n\u001b[0;32m----> 1\u001b[0m \u001b[43mconvert_fol_exps\u001b[49m\u001b[43m(\u001b[49m\u001b[43mexample_row\u001b[49m\u001b[43m[\u001b[49m\u001b[38;5;124;43m\"\u001b[39;49m\u001b[38;5;124;43mpremises-FOL\u001b[39;49m\u001b[38;5;124;43m\"\u001b[39;49m\u001b[43m]\u001b[49m\u001b[38;5;241;43m.\u001b[39;49m\u001b[43msplit\u001b[49m\u001b[43m(\u001b[49m\u001b[38;5;124;43m\"\u001b[39;49m\u001b[38;5;130;43;01m\\n\u001b[39;49;00m\u001b[38;5;124;43m\"\u001b[39;49m\u001b[43m)\u001b[49m\u001b[43m)\u001b[49m\n\u001b[1;32m      3\u001b[0m \u001b[38;5;66;03m# prover.prove(convert_fol_exps(, ))\u001b[39;00m\n",
      "Cell \u001b[0;32mIn[11], line 11\u001b[0m, in \u001b[0;36mconvert_fol_exps\u001b[0;34m(fol_strings)\u001b[0m\n\u001b[1;32m      9\u001b[0m \u001b[38;5;28;01mdef\u001b[39;00m \u001b[38;5;21mconvert_fol_exps\u001b[39m(fol_strings):\n\u001b[1;32m     10\u001b[0m     tlp \u001b[38;5;241m=\u001b[39m LogicParser(\u001b[38;5;28;01mTrue\u001b[39;00m)\n\u001b[0;32m---> 11\u001b[0m     fol_exps \u001b[38;5;241m=\u001b[39m [\u001b[43mtlp\u001b[49m\u001b[38;5;241;43m.\u001b[39;49m\u001b[43mparse\u001b[49m\u001b[43m(\u001b[49m\u001b[43mfol_string\u001b[49m\u001b[43m)\u001b[49m \u001b[38;5;28;01mfor\u001b[39;00m fol_string \u001b[38;5;129;01min\u001b[39;00m fol_strings]\n\u001b[1;32m     12\u001b[0m     \u001b[38;5;28;01mreturn\u001b[39;00m fol_exps\n",
      "File \u001b[0;32m~/miniconda3/envs/linc/lib/python3.12/site-packages/nltk/sem/logic.py:159\u001b[0m, in \u001b[0;36mLogicParser.parse\u001b[0;34m(self, data, signature)\u001b[0m\n\u001b[1;32m    157\u001b[0m \u001b[38;5;28;01mexcept\u001b[39;00m LogicalExpressionException \u001b[38;5;28;01mas\u001b[39;00m e:\n\u001b[1;32m    158\u001b[0m     msg \u001b[38;5;241m=\u001b[39m \u001b[38;5;124m\"\u001b[39m\u001b[38;5;132;01m{}\u001b[39;00m\u001b[38;5;130;01m\\n\u001b[39;00m\u001b[38;5;132;01m{}\u001b[39;00m\u001b[38;5;130;01m\\n\u001b[39;00m\u001b[38;5;132;01m{}\u001b[39;00m\u001b[38;5;124m^\u001b[39m\u001b[38;5;124m\"\u001b[39m\u001b[38;5;241m.\u001b[39mformat(e, data, \u001b[38;5;124m\"\u001b[39m\u001b[38;5;124m \u001b[39m\u001b[38;5;124m\"\u001b[39m \u001b[38;5;241m*\u001b[39m mapping[e\u001b[38;5;241m.\u001b[39mindex \u001b[38;5;241m-\u001b[39m \u001b[38;5;241m1\u001b[39m])\n\u001b[0;32m--> 159\u001b[0m     \u001b[38;5;28;01mraise\u001b[39;00m LogicalExpressionException(\u001b[38;5;28;01mNone\u001b[39;00m, msg) \u001b[38;5;28;01mfrom\u001b[39;00m \u001b[38;5;21;01me\u001b[39;00m\n\u001b[1;32m    161\u001b[0m \u001b[38;5;28;01mif\u001b[39;00m \u001b[38;5;28mself\u001b[39m\u001b[38;5;241m.\u001b[39mtype_check:\n\u001b[1;32m    162\u001b[0m     result\u001b[38;5;241m.\u001b[39mtypecheck(signature)\n",
      "\u001b[0;31mLogicalExpressionException\u001b[0m: Unexpected token: '∧'.  Expected token ')'.\n∀x (InThisClub(x) ∧ PerformOftenIn(x, schoolTalentShow) → Attend(x, schoolEvent) ∧ VeryEngagedWith(x, schoolEvent))\n                  ^"
     ]
    }
   ],
   "source": [
    "convert_fol_exps(example_row[\"premises-FOL\"].split(\"\\n\"))\n",
    "\n",
    "# prover.prove(convert_fol_exps(, ))"
   ]
  }
 ],
 "metadata": {
  "kernelspec": {
   "display_name": "linc",
   "language": "python",
   "name": "python3"
  },
  "language_info": {
   "codemirror_mode": {
    "name": "ipython",
    "version": 3
   },
   "file_extension": ".py",
   "mimetype": "text/x-python",
   "name": "python",
   "nbconvert_exporter": "python",
   "pygments_lexer": "ipython3",
   "version": "3.12.7"
  }
 },
 "nbformat": 4,
 "nbformat_minor": 2
}
